{
  "nbformat": 4,
  "nbformat_minor": 0,
  "metadata": {
    "colab": {
      "provenance": [],
      "gpuType": "T4",
      "authorship_tag": "ABX9TyPV76HKN9u2ouVmzstETVQ9",
      "include_colab_link": true
    },
    "kernelspec": {
      "name": "python3",
      "display_name": "Python 3"
    },
    "language_info": {
      "name": "python"
    },
    "accelerator": "GPU"
  },
  "cells": [
    {
      "cell_type": "markdown",
      "metadata": {
        "id": "view-in-github",
        "colab_type": "text"
      },
      "source": [
        "<a href=\"https://colab.research.google.com/github/Vangzbill/Machine_Learning/blob/main/Jobsheet_10.ipynb\" target=\"_parent\"><img src=\"https://colab.research.google.com/assets/colab-badge.svg\" alt=\"Open In Colab\"/></a>"
      ]
    },
    {
      "cell_type": "markdown",
      "source": [
        "**Jobsheet Machine Learning**\n",
        "***\n",
        "\n",
        "Nama      : Sabilla Luthfi Rahmadhan\n",
        "\n",
        "No Absen  : 19\n",
        "\n",
        "Kelas     : TI-3G\n",
        "***"
      ],
      "metadata": {
        "id": "UJxo-qvCSaI9"
      }
    },
    {
      "cell_type": "markdown",
      "source": [
        "# Praktikum 1\n",
        "\n",
        "RNN untuk Analisis Sentimen\n",
        "\n",
        "## Setup\n",
        "\n",
        "Impor matplotlib dan buat fungsi pembantu untuk memplot grafik:"
      ],
      "metadata": {
        "id": "D4igP55c2gz6"
      }
    },
    {
      "cell_type": "code",
      "source": [
        "import numpy as np\n",
        "import tensorflow_datasets as tfds\n",
        "import tensorflow as tf\n",
        "\n",
        "tfds.disable_progress_bar()"
      ],
      "metadata": {
        "id": "Paa3TFar1NPy"
      },
      "execution_count": null,
      "outputs": []
    },
    {
      "cell_type": "code",
      "source": [
        "import matplotlib.pyplot as plt\n",
        "\n",
        "def plot_graphs(history, metric):\n",
        " plt.plot(history.history[metric])\n",
        " plt.plot(history.history['val_'+metric], '')\n",
        " plt.xlabel(\"Epochs\")\n",
        " plt.ylabel(metric)\n",
        " plt.legend([metric, 'val_'+metric])"
      ],
      "metadata": {
        "id": "Spg3MjKR3Bh5"
      },
      "execution_count": null,
      "outputs": []
    },
    {
      "cell_type": "markdown",
      "source": [
        "## Setup input pipeline\n",
        "\n",
        "Dataset ulasan film IMDB adalah kumpulan data klasifikasi biner—semua ulasan memiliki sentimen positif atau negatif.\n",
        "Download dataset menggunakan TFDS. Lihat loading text tutorial jika ingin me load data secara manual"
      ],
      "metadata": {
        "id": "OVn4DGga3SlT"
      }
    },
    {
      "cell_type": "code",
      "source": [
        "dataset, info = tfds.load('imdb_reviews', with_info=True,\n",
        "                          as_supervised=True)\n",
        "train_dataset, test_dataset = dataset['train'], dataset['test']\n",
        "\n",
        "train_dataset.element_spec"
      ],
      "metadata": {
        "colab": {
          "base_uri": "https://localhost:8080/"
        },
        "id": "TEWl6VhQ3b_W",
        "outputId": "59f7b28c-c000-45ea-a311-cb7b5da212c6"
      },
      "execution_count": null,
      "outputs": [
        {
          "output_type": "stream",
          "name": "stdout",
          "text": [
            "Downloading and preparing dataset 80.23 MiB (download: 80.23 MiB, generated: Unknown size, total: 80.23 MiB) to /root/tensorflow_datasets/imdb_reviews/plain_text/1.0.0...\n",
            "Dataset imdb_reviews downloaded and prepared to /root/tensorflow_datasets/imdb_reviews/plain_text/1.0.0. Subsequent calls will reuse this data.\n"
          ]
        },
        {
          "output_type": "execute_result",
          "data": {
            "text/plain": [
              "(TensorSpec(shape=(), dtype=tf.string, name=None),\n",
              " TensorSpec(shape=(), dtype=tf.int64, name=None))"
            ]
          },
          "metadata": {},
          "execution_count": 4
        }
      ]
    },
    {
      "cell_type": "markdown",
      "source": [
        "Awalnya ini mengembalikan dataset (teks, pasangan label):"
      ],
      "metadata": {
        "id": "Z9WwyNmj4UgT"
      }
    },
    {
      "cell_type": "code",
      "source": [
        "for example, label in train_dataset.take(1):\n",
        "  print('text: ', example.numpy())\n",
        "  print('label: ', label.numpy())"
      ],
      "metadata": {
        "colab": {
          "base_uri": "https://localhost:8080/"
        },
        "id": "JR7nbMDA4Vu2",
        "outputId": "423cb176-da2e-45c6-85b4-2c4f4c8d5193"
      },
      "execution_count": null,
      "outputs": [
        {
          "output_type": "stream",
          "name": "stdout",
          "text": [
            "text:  b\"This was an absolutely terrible movie. Don't be lured in by Christopher Walken or Michael Ironside. Both are great actors, but this must simply be their worst role in history. Even their great acting could not redeem this movie's ridiculous storyline. This movie is an early nineties US propaganda piece. The most pathetic scenes were those when the Columbian rebels were making their cases for revolutions. Maria Conchita Alonso appeared phony, and her pseudo-love affair with Walken was nothing but a pathetic emotional plug in a movie that was devoid of any real meaning. I am disappointed that there are movies like this, ruining actor's like Christopher Walken's good name. I could barely sit through it.\"\n",
            "label:  0\n"
          ]
        }
      ]
    },
    {
      "cell_type": "markdown",
      "source": [
        "Berikutnya acak data untuk pelatihan dan membuat kumpulan pasangan (teks, label) ini"
      ],
      "metadata": {
        "id": "C6jWiRbt4fD8"
      }
    },
    {
      "cell_type": "code",
      "source": [
        "BUFFER_SIZE = 10000\n",
        "BATCH_SIZE = 64\n",
        "\n",
        "train_dataset = train_dataset.shuffle(BUFFER_SIZE).batch(BATCH_SIZE).prefetch(tf.data.AUTOTUNE)\n",
        "test_dataset = test_dataset.batch(BATCH_SIZE).prefetch(tf.data.AUTOTUNE)\n",
        "\n",
        "for example, label in train_dataset.take(1):\n",
        "  print('texts: ', example.numpy()[:3])\n",
        "  print()\n",
        "  print('labels: ', label.numpy()[:3])\n"
      ],
      "metadata": {
        "colab": {
          "base_uri": "https://localhost:8080/"
        },
        "id": "S5n93ijR4iwU",
        "outputId": "a2b1184c-2472-40ea-d7b8-5af2ea6bb4f2"
      },
      "execution_count": null,
      "outputs": [
        {
          "output_type": "stream",
          "name": "stdout",
          "text": [
            "texts:  [b'This movie is cold, bare truth. Often we think \"oh no, that won\\'t happen to me.\" But it can. Drug smuggling is big money and often people are unknowingly (or tricked) into doing things for smugglers. The story of these two girls is the story of many young people who like them, only wanted a exotic holiday - which turned into a nightmare. People need to know that these sort of events aren\\'t improbable or exaggerated - this IS a major problem in today\\'s society.<br /><br />I would recommend this movie to mature viewers because of the understanding needed to truly appreciate this movie. It is very emotional and raw. Well worth watching and certainly stays in your memory.'\n",
            " b'Since Douglas MacArthur affected more human lives\\xc2\\x97for the better\\xc2\\x97than any other American not elected President, he deserved a better film biography. Not that Universal\\'s \"MacArthur\" is bad. It\\'s just not all it should have been.<br /><br />Oddly enough, the potential was there. From the very early \"Star Trek\" episode \"The Corbomite Maneuver\" (1966) to the recent HBO films \"Something the Lord Made\" (2OO4) and \"Warm Springs\" (2OO5), director Joseph Sargent has emerged as one of the most expressively human directors in film, a man capable of subtly shaping the emotional shadings of his actors\\' performances, and carrying the audience exactly where he wants them to go. The producer, Frank McCarthy, also gave us \"Patton\" (197O), the legendary Jerry Goldsmith scored both films, and Universal widely touted the fact that the film was \"four years in preparation and production.\" Yet for all of this, \"MacArthur\" is perfectly adequate\\xc2\\x97and not much more than that.<br /><br />The film begins in early 1942, shortly before the beleaguered general was ordered\\xc2\\x97by President Franklin D. Roosevelt (Dan O\\'Herlihy)\\xc2\\x97to flee the Philippines to avoid capture by the Japanese. Thus, this film omits: <br /><br />\\xc2\\xb7 MacArthur\\'s birth in 188O in a frontier barracks in Arkansas still subject to attack by Native American tribesmen\\xc2\\x97thus establishing that his remarkable life spanned the distance from bows-and-arrows to thermonuclear weapons; <br /><br />\\xc2\\xb7 his graduation from West Point\\xc2\\x97first in a class of 95, <br /><br />\\xc2\\xb7 how he joined his famous father, General Arthur MacArthur (who had earned the Medal of Honor at Missionary Ridge in the Civil War) on assignments in Japan, China and, most importantly, in the Philippines; <br /><br />\\xc2\\xb7 his heroic exploits in the 1914 excursion into Vera Cruz; <br /><br />\\xc2\\xb7 how he leaped about the trenches of World War One like a mountain goat, often wounded, and promoted with blinding speed to Brigadier General; <br /><br />\\xc2\\xb7 his postwar service as West Point\\'s youngest\\xc2\\x97and most progressive\\xc2\\x97commandant; <br /><br />\\xc2\\xb7 his participation in the court-martial of Billy Mitchell in 1924; <br /><br />\\xc2\\xb7 his routing of the Bonus Marchers in 1932; <br /><br />\\xc2\\xb7 his efforts to sustain a woefully-underfunded Army as Chief of Staff in the early 193O\\'s; <br /><br />\\xc2\\xb7 his retirement from the U.S. Army to become Field Marshal (!) of the Army of the Philippines; <br /><br />\\xc2\\xb7 and the reactivation of his commission by FDR shortly before the outbreak of the Second World War.<br /><br />All this is omitted in favor of prolonged footage of MacArthur trying to fight off seasickness while being evacuated by PT boat\\xc2\\x97thus, we know that \"General Mac\" is a legend, but not why; nor can we appreciate why the allegations of cowardice were so wounding to \"Dugout Doug\"\\xc2\\x97and so patently unfounded.<br /><br />The remainder of his career is presently straightforwardly: His island-hopping \"Hit \\'em where they ain\\'t\" campaign, the fulfillment of his pledge to the Filipinos\\xc2\\x97 \"I shall return!\"\\xc2\\x97his crowning achievement, the winning of the peace in postwar Japan, then the difference of opinion with President Harry Truman (a properly feisty Ed Flanders) over the conduct of the Korean conflict which resulted in his outright firing, and finally, his proclamation to Congress that \"old soldiers\\xc2\\x85simply fade away,\" after which he did just that. All quite historically accurate, and all presented with a very deliberate lack of commentary.<br /><br />Sargent and the producers almost painfully distance themselves from adorning the historical record with their own approval or disapproval: If MacArthur\\'s actions appear noble, let them be presented as such; if they appear egotistical or bombastic, let those conceptions register sans comment. Since Joe Sargent is quite expert at subtly manipulating his audience\\'s reactions\\xc2\\x97again, see Warm Springs\\xc2\\x97this refusal to offer comment appears quite intentional. Historically, that may be commendable, but it almost defeats the efforts of the viewer to place this extraordinary man in any kind of rational perspective.<br /><br />And finally, there is a sort of \"made on the cheap\" feel to the film, as there is to \"Midway,\" released about the same time. Both films were relegated to \"television\" directors--Sargent in this case, Jack Smight on \"Midway,\" and both have a made-for-TV-look. Even Jerry Goldsmith\\'s march, while perfectly serviceable, lack the subtle undertones and the grandeur of his \"Patton\" theme--just another way in which a larger-than-life man is memorialized by a very ordinary film.<br /><br />There was vanity and pettiness in this man, inarguably; there was also greatness\\xc2\\x97and love him or loathe him, one must acknowledge the fact that MacArthur did what no military commander before him had done: he won the peace.<br /><br />In the end, \"MacArthur\"\\xc2\\x97like so many film biographies\\xc2\\x97is a good place to begin research into this remarkable man, but a poor place to end it.'\n",
            " b\"It's not the most well made slasher movies of all time, but for what it is, it's pretty amusing. The plot is lame but the kills are not too bad. I have to be honest, if you don't follow the bands that are featured in this film, you wont find this film as funny as those who do. I knew someone who saw this film and was really disappointed because of the poor quality of the film but you have to understand that it was made in the spare time of being on tour, in between playing to moshing kids and drinkin' with friends backstage...it's not made to be taken seriously. It's ubber cheese at it's punk best and with over 100 kills,most of which are ultra gory, it's a fun movie to have friends over to watch, drink and be merry!\"]\n",
            "\n",
            "labels:  [1 1 0]\n"
          ]
        }
      ]
    },
    {
      "cell_type": "markdown",
      "source": [
        "**Buat Teks Encoder**\n",
        "\n",
        "Teks mentah yang dimuat oleh tfds perlu diproses sebelum dapat digunakan dalam model. Cara termudah memproses teks untuk pelatihan adalah menggunakan lapisan TextVectorization. Lapisan ini memiliki banyak kemampuan, namun pada tutorial ini menggunakan perilaku default. Buat lapisan tersebut, dan teruskan teks kumpulan data ke metode .adapt lapisan:"
      ],
      "metadata": {
        "id": "mplml3Gl5HJ9"
      }
    },
    {
      "cell_type": "code",
      "source": [
        "VOCAB_SIZE = 1000\n",
        "encoder = tf.keras.layers.TextVectorization(\n",
        "    max_tokens=VOCAB_SIZE)\n",
        "encoder.adapt(train_dataset.map(lambda text, label: text))"
      ],
      "metadata": {
        "id": "y5Y6tEeT5I_V"
      },
      "execution_count": null,
      "outputs": []
    },
    {
      "cell_type": "markdown",
      "source": [
        "Metode .adapt mengatur kosakata lapisan. 20 token pertama dapat dilihat dengan kode berikut. Setelah padding dan token yang tidak diketahui, mereka diurutkan berdasarkan frekuensi:"
      ],
      "metadata": {
        "id": "F6qmh11e5NAG"
      }
    },
    {
      "cell_type": "code",
      "source": [
        "vocab = np.array(encoder.get_vocabulary())\n",
        "vocab[:20]"
      ],
      "metadata": {
        "colab": {
          "base_uri": "https://localhost:8080/"
        },
        "id": "7yxPvzmW5PkU",
        "outputId": "a3100b23-d6ed-4890-ac11-4c013d77795b"
      },
      "execution_count": null,
      "outputs": [
        {
          "output_type": "execute_result",
          "data": {
            "text/plain": [
              "array(['', '[UNK]', 'the', 'and', 'a', 'of', 'to', 'is', 'in', 'it', 'i',\n",
              "       'this', 'that', 'br', 'was', 'as', 'for', 'with', 'movie', 'but'],\n",
              "      dtype='<U14')"
            ]
          },
          "metadata": {},
          "execution_count": 8
        }
      ]
    },
    {
      "cell_type": "markdown",
      "source": [
        "Setelah kosakata diatur, lapisan dapat mengkodekan teks ke dalam indeks. Tensor indeks diberi bantalan 0 ke urutan terpanjang dalam batch (kecuali jika Anda menetapkan output_sequence_length tetap):"
      ],
      "metadata": {
        "id": "CgTiLGfK5Us0"
      }
    },
    {
      "cell_type": "code",
      "source": [
        "encoded_example = encoder(example)[:3].numpy()\n",
        "encoded_example"
      ],
      "metadata": {
        "colab": {
          "base_uri": "https://localhost:8080/"
        },
        "id": "3w3_Qpye5XYv",
        "outputId": "a7560fda-3d49-485a-e35a-a12b02d7affe"
      },
      "execution_count": null,
      "outputs": [
        {
          "output_type": "execute_result",
          "data": {
            "text/plain": [
              "array([[ 11,  18,   7, ...,   0,   0,   0],\n",
              "       [231,   1,   1, ...,   0,   0,   0],\n",
              "       [ 30,  22,   2, ...,   0,   0,   0]])"
            ]
          },
          "metadata": {},
          "execution_count": 10
        }
      ]
    },
    {
      "cell_type": "markdown",
      "source": [
        "Dengan pengaturan default, prosesnya tidak dapat dibalik sepenuhnya. Ada dua alasan utama untuk itu:\n",
        "\n",
        "-Nilai default untuk argumen standarisasi preprocessing.TextVectorization adalah \"lower_and_strip_punctuation\".\n",
        "\n",
        "-Ukuran kosa kata yang terbatas dan kurangnya fallback berbasis karakter menghasilkan beberapa token yang tidak diketahui."
      ],
      "metadata": {
        "id": "kluU3tjR5cN-"
      }
    },
    {
      "cell_type": "code",
      "source": [
        "for n in range(3):\n",
        "  print(\"Original: \", example[n].numpy())\n",
        "  print(\"Round-trip: \", \" \".join(vocab[encoded_example[n]]))\n",
        "  print()"
      ],
      "metadata": {
        "colab": {
          "base_uri": "https://localhost:8080/"
        },
        "id": "ACszrCJ95hat",
        "outputId": "464f643b-9205-4264-9380-3ef82b058c65"
      },
      "execution_count": null,
      "outputs": [
        {
          "output_type": "stream",
          "name": "stdout",
          "text": [
            "Original:  b'This movie is cold, bare truth. Often we think \"oh no, that won\\'t happen to me.\" But it can. Drug smuggling is big money and often people are unknowingly (or tricked) into doing things for smugglers. The story of these two girls is the story of many young people who like them, only wanted a exotic holiday - which turned into a nightmare. People need to know that these sort of events aren\\'t improbable or exaggerated - this IS a major problem in today\\'s society.<br /><br />I would recommend this movie to mature viewers because of the understanding needed to truly appreciate this movie. It is very emotional and raw. Well worth watching and certainly stays in your memory.'\n",
            "Round-trip:  this movie is [UNK] [UNK] truth often we think oh no that wont happen to me but it can [UNK] [UNK] is big money and often people are [UNK] or [UNK] into doing things for [UNK] the story of these two girls is the story of many young people who like them only wanted a [UNK] [UNK] which turned into a [UNK] people need to know that these sort of events arent [UNK] or [UNK] this is a major problem in [UNK] [UNK] br i would recommend this movie to [UNK] viewers because of the [UNK] needed to truly [UNK] this movie it is very emotional and [UNK] well worth watching and certainly [UNK] in your [UNK]                                                                                                                                                                                                                                                                                                                                                                                                                                                                                                                                                                                                                                                                                                                                                                                                                        \n",
            "\n",
            "Original:  b'Since Douglas MacArthur affected more human lives\\xc2\\x97for the better\\xc2\\x97than any other American not elected President, he deserved a better film biography. Not that Universal\\'s \"MacArthur\" is bad. It\\'s just not all it should have been.<br /><br />Oddly enough, the potential was there. From the very early \"Star Trek\" episode \"The Corbomite Maneuver\" (1966) to the recent HBO films \"Something the Lord Made\" (2OO4) and \"Warm Springs\" (2OO5), director Joseph Sargent has emerged as one of the most expressively human directors in film, a man capable of subtly shaping the emotional shadings of his actors\\' performances, and carrying the audience exactly where he wants them to go. The producer, Frank McCarthy, also gave us \"Patton\" (197O), the legendary Jerry Goldsmith scored both films, and Universal widely touted the fact that the film was \"four years in preparation and production.\" Yet for all of this, \"MacArthur\" is perfectly adequate\\xc2\\x97and not much more than that.<br /><br />The film begins in early 1942, shortly before the beleaguered general was ordered\\xc2\\x97by President Franklin D. Roosevelt (Dan O\\'Herlihy)\\xc2\\x97to flee the Philippines to avoid capture by the Japanese. Thus, this film omits: <br /><br />\\xc2\\xb7 MacArthur\\'s birth in 188O in a frontier barracks in Arkansas still subject to attack by Native American tribesmen\\xc2\\x97thus establishing that his remarkable life spanned the distance from bows-and-arrows to thermonuclear weapons; <br /><br />\\xc2\\xb7 his graduation from West Point\\xc2\\x97first in a class of 95, <br /><br />\\xc2\\xb7 how he joined his famous father, General Arthur MacArthur (who had earned the Medal of Honor at Missionary Ridge in the Civil War) on assignments in Japan, China and, most importantly, in the Philippines; <br /><br />\\xc2\\xb7 his heroic exploits in the 1914 excursion into Vera Cruz; <br /><br />\\xc2\\xb7 how he leaped about the trenches of World War One like a mountain goat, often wounded, and promoted with blinding speed to Brigadier General; <br /><br />\\xc2\\xb7 his postwar service as West Point\\'s youngest\\xc2\\x97and most progressive\\xc2\\x97commandant; <br /><br />\\xc2\\xb7 his participation in the court-martial of Billy Mitchell in 1924; <br /><br />\\xc2\\xb7 his routing of the Bonus Marchers in 1932; <br /><br />\\xc2\\xb7 his efforts to sustain a woefully-underfunded Army as Chief of Staff in the early 193O\\'s; <br /><br />\\xc2\\xb7 his retirement from the U.S. Army to become Field Marshal (!) of the Army of the Philippines; <br /><br />\\xc2\\xb7 and the reactivation of his commission by FDR shortly before the outbreak of the Second World War.<br /><br />All this is omitted in favor of prolonged footage of MacArthur trying to fight off seasickness while being evacuated by PT boat\\xc2\\x97thus, we know that \"General Mac\" is a legend, but not why; nor can we appreciate why the allegations of cowardice were so wounding to \"Dugout Doug\"\\xc2\\x97and so patently unfounded.<br /><br />The remainder of his career is presently straightforwardly: His island-hopping \"Hit \\'em where they ain\\'t\" campaign, the fulfillment of his pledge to the Filipinos\\xc2\\x97 \"I shall return!\"\\xc2\\x97his crowning achievement, the winning of the peace in postwar Japan, then the difference of opinion with President Harry Truman (a properly feisty Ed Flanders) over the conduct of the Korean conflict which resulted in his outright firing, and finally, his proclamation to Congress that \"old soldiers\\xc2\\x85simply fade away,\" after which he did just that. All quite historically accurate, and all presented with a very deliberate lack of commentary.<br /><br />Sargent and the producers almost painfully distance themselves from adorning the historical record with their own approval or disapproval: If MacArthur\\'s actions appear noble, let them be presented as such; if they appear egotistical or bombastic, let those conceptions register sans comment. Since Joe Sargent is quite expert at subtly manipulating his audience\\'s reactions\\xc2\\x97again, see Warm Springs\\xc2\\x97this refusal to offer comment appears quite intentional. Historically, that may be commendable, but it almost defeats the efforts of the viewer to place this extraordinary man in any kind of rational perspective.<br /><br />And finally, there is a sort of \"made on the cheap\" feel to the film, as there is to \"Midway,\" released about the same time. Both films were relegated to \"television\" directors--Sargent in this case, Jack Smight on \"Midway,\" and both have a made-for-TV-look. Even Jerry Goldsmith\\'s march, while perfectly serviceable, lack the subtle undertones and the grandeur of his \"Patton\" theme--just another way in which a larger-than-life man is memorialized by a very ordinary film.<br /><br />There was vanity and pettiness in this man, inarguably; there was also greatness\\xc2\\x97and love him or loathe him, one must acknowledge the fact that MacArthur did what no military commander before him had done: he won the peace.<br /><br />In the end, \"MacArthur\"\\xc2\\x97like so many film biographies\\xc2\\x97is a good place to begin research into this remarkable man, but a poor place to end it.'\n",
            "Round-trip:  since [UNK] [UNK] [UNK] more human [UNK] the [UNK] any other american not [UNK] [UNK] he [UNK] a better film [UNK] not that [UNK] [UNK] is bad its just not all it should have [UNK] br [UNK] enough the potential was there from the very early star [UNK] episode the [UNK] [UNK] [UNK] to the [UNK] [UNK] films something the [UNK] made [UNK] and [UNK] [UNK] [UNK] director [UNK] [UNK] has [UNK] as one of the most [UNK] human directors in film a man [UNK] of [UNK] [UNK] the emotional [UNK] of his actors performances and [UNK] the audience exactly where he wants them to go the [UNK] [UNK] [UNK] also gave us [UNK] [UNK] the [UNK] [UNK] [UNK] [UNK] both films and [UNK] [UNK] [UNK] the fact that the film was four years in [UNK] and production yet for all of this [UNK] is perfectly [UNK] not much more than [UNK] br the film begins in early [UNK] [UNK] before the [UNK] general was [UNK] [UNK] [UNK] [UNK] [UNK] [UNK] [UNK] [UNK] the [UNK] to avoid [UNK] by the japanese [UNK] this film [UNK] br br [UNK] [UNK] [UNK] in [UNK] in a [UNK] [UNK] in [UNK] still subject to [UNK] by [UNK] american [UNK] [UNK] that his [UNK] life [UNK] the [UNK] from [UNK] to [UNK] [UNK] br br [UNK] his [UNK] from [UNK] [UNK] in a class of [UNK] br br [UNK] how he [UNK] his famous father general [UNK] [UNK] who had [UNK] the [UNK] of [UNK] at [UNK] [UNK] in the [UNK] war on [UNK] in [UNK] [UNK] and most [UNK] in the [UNK] br br [UNK] his [UNK] [UNK] in the [UNK] [UNK] into [UNK] [UNK] br br [UNK] how he [UNK] about the [UNK] of world war one like a [UNK] [UNK] often [UNK] and [UNK] with [UNK] [UNK] to [UNK] general br br [UNK] his [UNK] [UNK] as [UNK] points [UNK] most [UNK] br br [UNK] his [UNK] in the [UNK] of [UNK] [UNK] in [UNK] br br [UNK] his [UNK] of the [UNK] [UNK] in [UNK] br br [UNK] his [UNK] to [UNK] a [UNK] [UNK] as [UNK] of [UNK] in the early [UNK] br br [UNK] his [UNK] from the us [UNK] to become [UNK] [UNK] of the [UNK] of the [UNK] br br [UNK] and the [UNK] of his [UNK] by [UNK] [UNK] before the [UNK] of the second world [UNK] br all this is [UNK] in [UNK] of [UNK] footage of [UNK] trying to fight off [UNK] while being [UNK] by [UNK] [UNK] we know that general [UNK] is a [UNK] but not why nor can we [UNK] why the [UNK] of [UNK] were so [UNK] to [UNK] [UNK] so [UNK] [UNK] br the [UNK] of his career is [UNK] [UNK] his [UNK] hit [UNK] where they [UNK] [UNK] the [UNK] of his [UNK] to the [UNK] i [UNK] [UNK] [UNK] [UNK] the [UNK] of the [UNK] in [UNK] [UNK] then the [UNK] of opinion with [UNK] [UNK] [UNK] a [UNK] [UNK] [UNK] [UNK] over the [UNK] of the [UNK] [UNK] which [UNK] in his [UNK] [UNK] and finally his [UNK] to [UNK] that old [UNK] [UNK] away after which he did just that all quite [UNK] [UNK] and all [UNK] with a very [UNK] lack of [UNK] br [UNK] and the [UNK] almost [UNK] [UNK] themselves from [UNK] the [UNK] [UNK] with their own [UNK] or [UNK] if [UNK] [UNK] appear [UNK] let them be [UNK] as such if they appear [UNK] or [UNK] let those [UNK] [UNK] [UNK] comment since joe [UNK] is quite [UNK] at [UNK] [UNK] his [UNK] [UNK] see [UNK] [UNK] [UNK] to [UNK] comment appears quite [UNK] [UNK] that may be [UNK] but it almost [UNK] the [UNK] of the viewer to place this [UNK] man in any kind of [UNK] [UNK] br and finally there is a sort of made on the cheap feel to the film as there is to [UNK] released about the same time both films were [UNK] to television [UNK] in this case jack [UNK] on [UNK] and both have a [UNK] even [UNK] [UNK] [UNK] while perfectly [UNK] lack the [UNK] [UNK] and the [UNK] of his [UNK] [UNK] another way in which a [UNK] man is [UNK] by a very [UNK] filmbr br there was [UNK] and [UNK] in this man [UNK] there was also [UNK] love him or [UNK] him one must [UNK] the fact that [UNK] did what no [UNK] [UNK] before him had done he [UNK] the [UNK] br in the end [UNK] so many film [UNK] a good place to begin [UNK] into this [UNK] man but a poor place to end it                                                                                                                               \n",
            "\n",
            "Original:  b\"It's not the most well made slasher movies of all time, but for what it is, it's pretty amusing. The plot is lame but the kills are not too bad. I have to be honest, if you don't follow the bands that are featured in this film, you wont find this film as funny as those who do. I knew someone who saw this film and was really disappointed because of the poor quality of the film but you have to understand that it was made in the spare time of being on tour, in between playing to moshing kids and drinkin' with friends backstage...it's not made to be taken seriously. It's ubber cheese at it's punk best and with over 100 kills,most of which are ultra gory, it's a fun movie to have friends over to watch, drink and be merry!\"\n",
            "Round-trip:  its not the most well made [UNK] movies of all time but for what it is its pretty [UNK] the plot is lame but the [UNK] are not too bad i have to be [UNK] if you dont follow the [UNK] that are [UNK] in this film you wont find this film as funny as those who do i knew someone who saw this film and was really disappointed because of the poor quality of the film but you have to understand that it was made in the [UNK] time of being on [UNK] in between playing to [UNK] kids and [UNK] with friends [UNK] not made to be taken seriously its [UNK] [UNK] at its [UNK] best and with over [UNK] [UNK] of which are [UNK] [UNK] its a fun movie to have friends over to watch [UNK] and be [UNK]                                                                                                                                                                                                                                                                                                                                                                                                                                                                                                                                                                                                                                                                                                                                                                                               \n",
            "\n"
          ]
        }
      ]
    },
    {
      "cell_type": "markdown",
      "source": [
        "## Buat Model\n",
        "\n",
        "2. Model ini dapat dibuat sebagai tf.keras.Sequential.\n",
        " 2. Lapisan pertama adalah encoder, yang mengubah teks menjadi urutan indeks token.\n",
        "3. Setelah encoder adalah lapisan penyematan (embedding layer). Lapisan penyematan menyimpan satu vektor per kata. Saat dipanggil, ini mengubah rangkaian indeks kata menjadi rangkaian vektor. Vektor-vektor ini dapat dilatih. Setelah pelatihan (dengan data yang cukup), kata-kata dengan arti yang mirip sering kali memiliki vektor yang serupa. Pencarian indeks ini jauh lebih efisien daripada operasi setara dengan meneruskan vektor yang disandikan one-hot melalui lapisan tf.keras.layers.Dense.\n",
        "4. Jaringan saraf berulang (RNN) memproses masukan urutan dengan melakukan iterasi melalui elemen. RNN meneruskan keluaran dari satu langkah waktu ke masukannya pada langkah waktu berikutnya.\n",
        "Pembungkus tf.keras.layers.Bidirection juga dapat digunakan dengan lapisan RNN. Ini menyebarkan masukan maju dan mundur melalui lapisan RNN dan kemudian menggabungkan keluaran akhir.\n",
        "  * Keuntungan utama RNN dua arah adalah sinyal dari awal masukan tidak perlu\n",
        "diproses sepanjang waktu untuk memengaruhi keluaran.\n",
        "  * Kerugian utama dari RNN dua arah adalah Anda tidak dapat melakukan streaming prediksi secara efisien saat kata-kata ditambahkan di akhir.\n",
        "5. Setelah RNN mengonversi urutan menjadi satu vektor, kedua lapisan tersebut.Dense melakukan beberapa pemrosesan akhir, dan mengonversi representasi vektor ini menjadi logit tunggal sebagai keluaran klasifikasi.\n",
        "Kode nya adalah sebagai berikut :"
      ],
      "metadata": {
        "id": "afR5RrU95kVZ"
      }
    },
    {
      "cell_type": "code",
      "source": [
        "model = tf.keras.Sequential([\n",
        "    encoder,\n",
        "    tf.keras.layers.Embedding(\n",
        "        input_dim=len(encoder.get_vocabulary()),\n",
        "        output_dim=64,\n",
        "        # Use masking to handle the variable sequence lengths\n",
        "        mask_zero=True),\n",
        "    tf.keras.layers.Bidirectional(tf.keras.layers.LSTM(64)),\n",
        "    tf.keras.layers.Dense(64, activation='relu'),\n",
        "    tf.keras.layers.Dense(1)\n",
        "])"
      ],
      "metadata": {
        "id": "Eio5jjv26DGj"
      },
      "execution_count": null,
      "outputs": []
    },
    {
      "cell_type": "markdown",
      "source": [
        "Harap dicatat bahwa model sekuensial Keras digunakan di sini karena semua lapisan dalam model hanya memiliki masukan tunggal dan menghasilkan keluaran tunggal. Jika Anda ingin menggunakan lapisan RNN stateful, Anda mungkin ingin membangun model Anda dengan API fungsional Keras atau subkelas model sehingga Anda dapat mengambil dan menggunakan kembali status lapisan RNN. Untuk detailnya bisa dilihat pada Keras RNN guide\n",
        "\n",
        "Lapisan penyematan menggunakan masking (uses masking ) untuk menangani panjang urutan yang bervariasi. Semua lapisan setelah penyematan dukungan penyematan"
      ],
      "metadata": {
        "id": "7nTExtJ56GvT"
      }
    },
    {
      "cell_type": "code",
      "source": [
        "print([layer.supports_masking for layer in model.layers])"
      ],
      "metadata": {
        "colab": {
          "base_uri": "https://localhost:8080/"
        },
        "id": "9b-PNtJM6KWz",
        "outputId": "51ef1e7e-e750-49aa-a197-7a2cd7f86bba"
      },
      "execution_count": null,
      "outputs": [
        {
          "output_type": "stream",
          "name": "stdout",
          "text": [
            "[False, True, True, True, True]\n"
          ]
        }
      ]
    },
    {
      "cell_type": "markdown",
      "source": [
        "Untuk memastikan bahwa ini berfungsi seperti yang diharapkan, evaluasi sebuah kalimat dua kali. Pertama, satu kalimat sehingga tidak ada bantalan (padding) untuk disamarkan:"
      ],
      "metadata": {
        "id": "fu7dZzGG6RpJ"
      }
    },
    {
      "cell_type": "code",
      "source": [
        "# predict on a sample text without padding.\n",
        "\n",
        "sample_text = ('The movie was cool. The animation and the graphics '\n",
        "               'were out of this world. I would recommend this movie.')\n",
        "predictions = model.predict(np.array([sample_text]))\n",
        "print(predictions[0])"
      ],
      "metadata": {
        "colab": {
          "base_uri": "https://localhost:8080/"
        },
        "id": "h4XmyxXh6Uks",
        "outputId": "cf143922-4f75-48ea-afe4-a35a1c4bb010"
      },
      "execution_count": null,
      "outputs": [
        {
          "output_type": "stream",
          "name": "stdout",
          "text": [
            "1/1 [==============================] - 9s 9s/step\n",
            "[-0.0039829]\n"
          ]
        }
      ]
    },
    {
      "cell_type": "markdown",
      "source": [
        "Sekarang, evaluasi lagi dalam batch dengan kalimat yang lebih panjang. Hasilnya harus sama:"
      ],
      "metadata": {
        "id": "YWzOy1KK6X7N"
      }
    },
    {
      "cell_type": "code",
      "source": [
        "# predict on a sample text with padding\n",
        "\n",
        "padding = \"the \" * 2000\n",
        "predictions = model.predict(np.array([sample_text, padding]))\n",
        "print(predictions[0])"
      ],
      "metadata": {
        "colab": {
          "base_uri": "https://localhost:8080/"
        },
        "id": "1So8KWIP6pRK",
        "outputId": "5a213ee5-fba7-455c-9c11-066acf04630e"
      },
      "execution_count": null,
      "outputs": [
        {
          "output_type": "stream",
          "name": "stdout",
          "text": [
            "1/1 [==============================] - 0s 63ms/step\n",
            "[-0.0039829]\n"
          ]
        }
      ]
    },
    {
      "cell_type": "markdown",
      "source": [
        "compile model Keras untuk mengonfigurasi proses pelatihan:"
      ],
      "metadata": {
        "id": "uD_2wxQD6v1B"
      }
    },
    {
      "cell_type": "code",
      "source": [
        "model.compile(loss=tf.keras.losses.BinaryCrossentropy(from_logits=True),\n",
        "              optimizer=tf.keras.optimizers.Adam(1e-4),\n",
        "              metrics=['accuracy'])"
      ],
      "metadata": {
        "id": "yKUWWKJ36wzF"
      },
      "execution_count": null,
      "outputs": []
    },
    {
      "cell_type": "markdown",
      "source": [
        "## Train Model"
      ],
      "metadata": {
        "id": "Yk6Mfj0m7KYy"
      }
    },
    {
      "cell_type": "code",
      "source": [
        "history = model.fit(train_dataset, epochs=10,\n",
        "                     validation_data=test_dataset,\n",
        "                     validation_steps=30)"
      ],
      "metadata": {
        "colab": {
          "base_uri": "https://localhost:8080/"
        },
        "id": "uHEOi6sR7lF4",
        "outputId": "8e47a06c-16c9-40a8-8704-d8f2dc244358"
      },
      "execution_count": null,
      "outputs": [
        {
          "output_type": "stream",
          "name": "stdout",
          "text": [
            "Epoch 1/10\n",
            "391/391 [==============================] - 50s 101ms/step - loss: 0.6439 - accuracy: 0.5636 - val_loss: 0.4742 - val_accuracy: 0.7708\n",
            "Epoch 2/10\n",
            "391/391 [==============================] - 25s 63ms/step - loss: 0.3849 - accuracy: 0.8237 - val_loss: 0.3540 - val_accuracy: 0.8234\n",
            "Epoch 3/10\n",
            "391/391 [==============================] - 25s 65ms/step - loss: 0.3318 - accuracy: 0.8533 - val_loss: 0.3273 - val_accuracy: 0.8615\n",
            "Epoch 4/10\n",
            "391/391 [==============================] - 26s 65ms/step - loss: 0.3157 - accuracy: 0.8630 - val_loss: 0.3285 - val_accuracy: 0.8542\n",
            "Epoch 5/10\n",
            "391/391 [==============================] - 24s 60ms/step - loss: 0.3066 - accuracy: 0.8668 - val_loss: 0.3229 - val_accuracy: 0.8562\n",
            "Epoch 6/10\n",
            "391/391 [==============================] - 24s 60ms/step - loss: 0.3067 - accuracy: 0.8672 - val_loss: 0.3171 - val_accuracy: 0.8557\n",
            "Epoch 7/10\n",
            "391/391 [==============================] - 25s 64ms/step - loss: 0.3023 - accuracy: 0.8695 - val_loss: 0.3254 - val_accuracy: 0.8630\n",
            "Epoch 8/10\n",
            "391/391 [==============================] - 24s 62ms/step - loss: 0.2985 - accuracy: 0.8721 - val_loss: 0.3206 - val_accuracy: 0.8531\n",
            "Epoch 9/10\n",
            "391/391 [==============================] - 24s 61ms/step - loss: 0.2982 - accuracy: 0.8711 - val_loss: 0.3151 - val_accuracy: 0.8594\n",
            "Epoch 10/10\n",
            "391/391 [==============================] - 26s 65ms/step - loss: 0.2965 - accuracy: 0.8712 - val_loss: 0.3165 - val_accuracy: 0.8609\n"
          ]
        }
      ]
    },
    {
      "cell_type": "code",
      "source": [
        "test_loss, test_acc = model.evaluate(test_dataset)\n",
        "\n",
        "print('Test Loss:', test_loss)\n",
        "print('Test Accuracy:', test_acc)"
      ],
      "metadata": {
        "colab": {
          "base_uri": "https://localhost:8080/"
        },
        "id": "1DYYEFvi9Pve",
        "outputId": "25a64a69-37ed-41e7-bac6-694778cd9bab"
      },
      "execution_count": null,
      "outputs": [
        {
          "output_type": "stream",
          "name": "stdout",
          "text": [
            "391/391 [==============================] - 11s 29ms/step - loss: 0.3164 - accuracy: 0.8613\n",
            "Test Loss: 0.31641846895217896\n",
            "Test Accuracy: 0.8613200187683105\n"
          ]
        }
      ]
    },
    {
      "cell_type": "code",
      "source": [
        "plt.figure(figsize=(16, 8))\n",
        "plt.subplot(1, 2, 1)\n",
        "plot_graphs(history, 'accuracy')\n",
        "plt.ylim(None, 1)\n",
        "plt.subplot(1, 2, 2)\n",
        "plot_graphs(history, 'loss')\n",
        "plt.ylim(0, None)"
      ],
      "metadata": {
        "colab": {
          "base_uri": "https://localhost:8080/",
          "height": 718
        },
        "id": "pCW-CPX__SRs",
        "outputId": "38eb3cc8-f0bf-425d-9018-9bac3b372478"
      },
      "execution_count": null,
      "outputs": [
        {
          "output_type": "execute_result",
          "data": {
            "text/plain": [
              "(0.0, 0.661317703127861)"
            ]
          },
          "metadata": {},
          "execution_count": 20
        },
        {
          "output_type": "display_data",
          "data": {
            "text/plain": [
              "<Figure size 1600x800 with 2 Axes>"
            ],
            "image/png": "[encoded data removed]"
          },
          "metadata": {}
        }
      ]
    },
    {
      "cell_type": "markdown",
      "source": [
        "Jalankan prediksi pada kalimat baru:\n",
        "\n",
        "Jika prediksi >= 0,0 berarti positif, jika tidak maka negatif."
      ],
      "metadata": {
        "id": "diHHVF5D_fMt"
      }
    },
    {
      "cell_type": "code",
      "source": [
        "sample_text = ('The movie was cool. The animation and the graphics '\n",
        "              'were out of this world. I would recommend this movie.')\n",
        "predictions = model.predict(np.array([sample_text]))"
      ],
      "metadata": {
        "colab": {
          "base_uri": "https://localhost:8080/"
        },
        "id": "Hka3Qi42_t7X",
        "outputId": "6091dc52-073e-4a01-b616-f8ee396c9614"
      },
      "execution_count": null,
      "outputs": [
        {
          "output_type": "stream",
          "name": "stdout",
          "text": [
            "1/1 [==============================] - 2s 2s/step\n"
          ]
        }
      ]
    },
    {
      "cell_type": "markdown",
      "source": [
        "## Stack two or more LSTM layers\n",
        "Lapisan berulang Keras memiliki dua mode yang tersedia yang dikontrol oleh argumen konstruktor return_sequences :\n",
        "\n",
        "Jika False, ia hanya mengembalikan keluaran terakhir untuk setiap urutan masukan (bentuk tensor 2D (batch_size, output_features)). Ini adalah default yang digunakan pada model sebelumnya.\n",
        "\n",
        "Jika True, Sequence lengkap output berturut-turut untuk setiap langkah waktu dikembalikan (bentuk tensor 3D (ukuran_batch, langkah waktu, fitur_output)).\n",
        "Berikut adalah alur informasi dengan return_sequences=True:\n",
        "\n",
        "Hal yang menarik dari penggunaan RNN dengan return_sequences=True adalah outputnya masih memiliki 3 axis, sama seperti inputnya, sehingga bisa diteruskan ke layer RNN lain, seperti ini:"
      ],
      "metadata": {
        "id": "wHQ1y6H0AQIk"
      }
    },
    {
      "cell_type": "code",
      "source": [
        "model = tf.keras.Sequential([\n",
        "     encoder,\n",
        "     tf.keras.layers.Embedding(len(encoder.get_vocabulary()), 64, mask_zero=True),\n",
        "     tf.keras.layers.Bidirectional(tf.keras.layers.LSTM(64, return_sequences=True)),\n",
        "     tf.keras.layers.Bidirectional(tf.keras.layers.LSTM(32)),\n",
        "     tf.keras.layers.Dense(64, activation='relu'),\n",
        "     tf.keras.layers.Dropout(0.5),\n",
        "     tf.keras.layers.Dense(1)\n",
        "])"
      ],
      "metadata": {
        "id": "vCySeFBu_49C"
      },
      "execution_count": null,
      "outputs": []
    },
    {
      "cell_type": "code",
      "source": [
        "model.compile(loss=tf.keras.losses.BinaryCrossentropy(from_logits=True),\n",
        "               optimizer=tf.keras.optimizers.Adam(1e-4),\n",
        "               metrics=['accuracy'])"
      ],
      "metadata": {
        "id": "N4lWlK1EArTx"
      },
      "execution_count": null,
      "outputs": []
    },
    {
      "cell_type": "code",
      "source": [
        "history = model.fit(train_dataset, epochs=10,\n",
        "                   validation_data=test_dataset,\n",
        "                   validation_steps=30)"
      ],
      "metadata": {
        "colab": {
          "base_uri": "https://localhost:8080/"
        },
        "id": "9GXk4RRZDn_g",
        "outputId": "7b9d4686-9d5a-4b6e-82fd-6cf8f86d2786"
      },
      "execution_count": null,
      "outputs": [
        {
          "output_type": "stream",
          "name": "stdout",
          "text": [
            "Epoch 1/10\n",
            "391/391 [==============================] - 78s 154ms/step - loss: 0.6121 - accuracy: 0.6019 - val_loss: 0.4449 - val_accuracy: 0.7500\n",
            "Epoch 2/10\n",
            "391/391 [==============================] - 47s 120ms/step - loss: 0.3768 - accuracy: 0.8351 - val_loss: 0.3517 - val_accuracy: 0.8406\n",
            "Epoch 3/10\n",
            "391/391 [==============================] - 46s 118ms/step - loss: 0.3355 - accuracy: 0.8576 - val_loss: 0.3383 - val_accuracy: 0.8625\n",
            "Epoch 4/10\n",
            "391/391 [==============================] - 49s 124ms/step - loss: 0.3224 - accuracy: 0.8619 - val_loss: 0.3416 - val_accuracy: 0.8443\n",
            "Epoch 5/10\n",
            "391/391 [==============================] - 45s 114ms/step - loss: 0.3122 - accuracy: 0.8671 - val_loss: 0.3209 - val_accuracy: 0.8552\n",
            "Epoch 6/10\n",
            "391/391 [==============================] - 48s 121ms/step - loss: 0.3126 - accuracy: 0.8670 - val_loss: 0.3214 - val_accuracy: 0.8479\n",
            "Epoch 7/10\n",
            "391/391 [==============================] - 48s 122ms/step - loss: 0.3072 - accuracy: 0.8672 - val_loss: 0.3415 - val_accuracy: 0.8599\n",
            "Epoch 8/10\n",
            "391/391 [==============================] - 45s 114ms/step - loss: 0.3033 - accuracy: 0.8708 - val_loss: 0.3297 - val_accuracy: 0.8401\n",
            "Epoch 9/10\n",
            "391/391 [==============================] - 47s 121ms/step - loss: 0.3023 - accuracy: 0.8704 - val_loss: 0.3334 - val_accuracy: 0.8422\n",
            "Epoch 10/10\n",
            "391/391 [==============================] - 46s 117ms/step - loss: 0.2955 - accuracy: 0.8726 - val_loss: 0.3207 - val_accuracy: 0.8583\n"
          ]
        }
      ]
    },
    {
      "cell_type": "code",
      "source": [
        "test_loss, test_acc = model.evaluate(test_dataset)\n",
        "\n",
        "print('Test Loss:', test_loss)\n",
        "print('Test Accuracy:', test_acc)"
      ],
      "metadata": {
        "colab": {
          "base_uri": "https://localhost:8080/"
        },
        "id": "jmJYH2MgE1-v",
        "outputId": "51976d12-2b28-42b8-979e-35c4752d1eea"
      },
      "execution_count": null,
      "outputs": [
        {
          "output_type": "stream",
          "name": "stdout",
          "text": [
            "391/391 [==============================] - 20s 50ms/step - loss: 0.3188 - accuracy: 0.8610\n",
            "Test Loss: 0.31876105070114136\n",
            "Test Accuracy: 0.8610000014305115\n"
          ]
        }
      ]
    },
    {
      "cell_type": "code",
      "source": [
        "# predict on a sample text without padding.\n",
        "\n",
        "sample_text = ('The movie was not good. The animation and the graphics '\n",
        "              'were terrible. I would not recommend this movie.')\n",
        "predictions = model.predict(np.array([sample_text]))\n",
        "print(predictions)"
      ],
      "metadata": {
        "colab": {
          "base_uri": "https://localhost:8080/"
        },
        "id": "-HbWOpAOJm3m",
        "outputId": "31541fcf-f682-4633-b25e-def6b2679585"
      },
      "execution_count": null,
      "outputs": [
        {
          "output_type": "stream",
          "name": "stdout",
          "text": [
            "1/1 [==============================] - 6s 6s/step\n",
            "[[-1.6166784]]\n"
          ]
        }
      ]
    },
    {
      "cell_type": "code",
      "source": [
        "plt.figure(figsize=(16, 6))\n",
        "plt.subplot(1, 2, 1)\n",
        "plot_graphs(history, 'accuracy')\n",
        "plt.subplot(1, 2, 2)\n",
        "plot_graphs(history, 'loss')"
      ],
      "metadata": {
        "colab": {
          "base_uri": "https://localhost:8080/",
          "height": 542
        },
        "id": "TRLIsr3FJy_Q",
        "outputId": "1ea8aced-1cd3-47e8-d4d0-126c866fb2f5"
      },
      "execution_count": null,
      "outputs": [
        {
          "output_type": "display_data",
          "data": {
            "text/plain": [
              "<Figure size 1600x600 with 2 Axes>"
            ],
            "image/png": "[encoded data removed]"
          },
          "metadata": {}
        }
      ]
    },
    {
      "cell_type": "markdown",
      "source": [
        "# Praktikum 2\n",
        "\n",
        "Generator Teks dengan RNN"
      ],
      "metadata": {
        "id": "ugEjqA52SD1W"
      }
    },
    {
      "cell_type": "markdown",
      "source": [
        "Praktikum ini mendemonstrasikan cara melakukan genearsi text menggunakan RNN. Dataset yang digunkan adalah dataset Shakespeare's writing from Andrej Karpathy's The Unreasonable Effectiveness of Recurrent Neural Networks. Jika diberikan urutan karakter dari data ini (\"Shakespear\"), latih model untuk memprediksi karakter berikutnya dalam urutan (\"e\"). Urutan teks yang lebih panjang dapat dihasilkan dengan memanggil model berulang kali.\n",
        "\n",
        "Note: Enable GPU acceleration to execute this notebook faster. In Colab: Runtime > Change runtime type > Hardware accelerator > GPU.\n",
        "\n",
        "Tutorial ini menggunakan tf.keras dan eager execution. Berikut adalah contoh output ketika model dalam tutorial ini dilatih selama 30 epoch, dan dimulai dengan prompt \"Q\":"
      ],
      "metadata": {
        "id": "KZo1r3aYSLw1"
      }
    },
    {
      "cell_type": "markdown",
      "source": [
        "```\n",
        "QUEENE:\n",
        "I had thought thou hadst a Roman; for the oracle,\n",
        "Thus by All bids the man against the word,\n",
        "Which are so weak of care, by old care done;\n",
        "Your children were in your holy love,\n",
        "And the precipitation through the bleeding throne.\n",
        "\n",
        "BISHOP OF ELY:\n",
        "Marry, and will, my lord, to weep in such a one were prettiest;\n",
        "Yet now I was adopted heir\n",
        "Of the world's lamentable day,\n",
        "To watch the next way with his father with his face?\n",
        "\n",
        "ESCALUS:\n",
        "The cause why then we are all resolved more sons.\n",
        "\n",
        "VOLUMNIA:\n",
        "O, no, no, no, no, no, no, no, no, no, no, no, no, no, no, no, no, no, no, no, no, it is no sin it should be dead,\n",
        "And love and pale as any will to that word.\n",
        "\n",
        "QUEEN ELIZABETH:\n",
        "But how long have I heard the soul for this world,\n",
        "And show his hands of life be proved to stand.\n",
        "\n",
        "PETRUCHIO:\n",
        "I say he look'd on, if I must be content\n",
        "To stay him from the fatal of our country's bliss.\n",
        "His lordship pluck'd from this sentence then for prey,\n",
        "And then let us twain, being the moon,\n",
        "were she such a case as fills m\n",
        "```"
      ],
      "metadata": {
        "id": "Ny_XHPzfSnyi"
      }
    },
    {
      "cell_type": "markdown",
      "source": [
        "Meskipun beberapa kalimat memiliki tata bahasa, sebagian besar tidak masuk akal. Model belum mempelajari arti kata-kata, namun anggap saja:\n",
        "\n",
        "-Modelnya berbasis karakter. Saat pelatihan dimulai, model tidak mengetahui cara mengeja kata dalam bahasa Inggris, atau bahkan kata-kata tersebut merupakan satuan teks.\n",
        "\n",
        "-Struktur keluarannya menyerupai sandiwara—blok teks umumnya dimulai dengan nama pembicara, dengan huruf kapital semua mirip dengan kumpulan data.\n",
        "\n",
        "-Seperti yang ditunjukkan di bawah, model dilatih pada kumpulan teks kecil (masing-masing 100 karakter), dan masih mampu menghasilkan rangkaian teks yang lebih panjang dengan struktur yang koheren."
      ],
      "metadata": {
        "id": "kn_omzZeSv5B"
      }
    },
    {
      "cell_type": "markdown",
      "source": [
        "## Setup\n",
        "\n",
        "Import TensorFlow"
      ],
      "metadata": {
        "id": "PX96GkRyTAwD"
      }
    },
    {
      "cell_type": "code",
      "source": [
        "import tensorflow as tf\n",
        "import numpy as np\n",
        "import os\n",
        "import time"
      ],
      "metadata": {
        "id": "sSe9eW2ETHjP"
      },
      "execution_count": 1,
      "outputs": []
    },
    {
      "cell_type": "markdown",
      "source": [
        "Download Dataset Shakespeare\n",
        "Sesuaikan dengan lokasi data yang Anda punya."
      ],
      "metadata": {
        "id": "_TwSUT_QTNcJ"
      }
    },
    {
      "cell_type": "code",
      "source": [
        "path_to_file = tf.keras.utils.get_file('shakespeare.txt', 'https://storage.googleapis.com/download.tensorflow.org/data/shakespeare.txt')"
      ],
      "metadata": {
        "colab": {
          "base_uri": "https://localhost:8080/"
        },
        "id": "MIRMj3UATRnQ",
        "outputId": "165eacf6-9b7a-439e-f9ba-7bc97cc68d66"
      },
      "execution_count": 2,
      "outputs": [
        {
          "output_type": "stream",
          "name": "stdout",
          "text": [
            "Downloading data from https://storage.googleapis.com/download.tensorflow.org/data/shakespeare.txt\n",
            "1115394/1115394 [==============================] - 0s 0us/step\n"
          ]
        }
      ]
    },
    {
      "cell_type": "markdown",
      "source": [
        "Load Data"
      ],
      "metadata": {
        "id": "X7-wtv-mTZjJ"
      }
    },
    {
      "cell_type": "code",
      "source": [
        "# Read, then decode for py2 compat.\n",
        "text = open(path_to_file, 'rb').read().decode(encoding='utf-8')\n",
        "# length of text is the number of characters in it\n",
        "print(f'Length of text: {len(text)} characters')"
      ],
      "metadata": {
        "colab": {
          "base_uri": "https://localhost:8080/"
        },
        "id": "oH3aEsmiTd97",
        "outputId": "05196fbe-6dc7-4b24-9ab2-ea738f067d27"
      },
      "execution_count": 3,
      "outputs": [
        {
          "output_type": "stream",
          "name": "stdout",
          "text": [
            "Length of text: 1115394 characters\n"
          ]
        }
      ]
    },
    {
      "cell_type": "code",
      "source": [
        "# Take a look at the first 250 characters in text\n",
        "print(text[:250])"
      ],
      "metadata": {
        "colab": {
          "base_uri": "https://localhost:8080/"
        },
        "id": "WAyCe8aoTg7J",
        "outputId": "b2737a29-2fb9-47b4-a321-5e5678a9069a"
      },
      "execution_count": 4,
      "outputs": [
        {
          "output_type": "stream",
          "name": "stdout",
          "text": [
            "First Citizen:\n",
            "Before we proceed any further, hear me speak.\n",
            "\n",
            "All:\n",
            "Speak, speak.\n",
            "\n",
            "First Citizen:\n",
            "You are all resolved rather to die than to famish?\n",
            "\n",
            "All:\n",
            "Resolved. resolved.\n",
            "\n",
            "First Citizen:\n",
            "First, you know Caius Marcius is chief enemy to the people.\n",
            "\n"
          ]
        }
      ]
    },
    {
      "cell_type": "code",
      "source": [
        "# The unique characters in the file\n",
        "vocab = sorted(set(text))\n",
        "print(f'{len(vocab)} unique characters')"
      ],
      "metadata": {
        "colab": {
          "base_uri": "https://localhost:8080/"
        },
        "id": "UwGc74tWTlAK",
        "outputId": "245e3377-b4ab-49e1-ae60-7d49930d1c1f"
      },
      "execution_count": 5,
      "outputs": [
        {
          "output_type": "stream",
          "name": "stdout",
          "text": [
            "65 unique characters\n"
          ]
        }
      ]
    },
    {
      "cell_type": "markdown",
      "source": [
        "## Olah Teks\n",
        "\n",
        "Vectorize Teks\n",
        "\n",
        "Sebelum training, Anda perlu mengonversi string menjadi representasi numerik. tf.keras.layers.StringLookup dapat mengubah setiap karakter menjadi ID numerik. Caranya adalah teks akan dipecah menjadi token terlebih dahulu."
      ],
      "metadata": {
        "id": "7qvZtFmjTonh"
      }
    },
    {
      "cell_type": "code",
      "source": [
        "example_texts = ['abcdefg', 'xyz']\n",
        "chars = tf.strings.unicode_split(example_texts, input_encoding='UTF-8')\n",
        "chars"
      ],
      "metadata": {
        "colab": {
          "base_uri": "https://localhost:8080/"
        },
        "id": "9gVjMVywTzco",
        "outputId": "63c2b6c0-1568-442d-e55b-1a3ed7f46c7e"
      },
      "execution_count": 6,
      "outputs": [
        {
          "output_type": "execute_result",
          "data": {
            "text/plain": [
              "<tf.RaggedTensor [[b'a', b'b', b'c', b'd', b'e', b'f', b'g'], [b'x', b'y', b'z']]>"
            ]
          },
          "metadata": {},
          "execution_count": 6
        }
      ]
    },
    {
      "cell_type": "markdown",
      "source": [
        "sekarang buat tf.keras.layers.StringLookup layer:"
      ],
      "metadata": {
        "id": "jd8LWVqAUcy-"
      }
    },
    {
      "cell_type": "code",
      "source": [
        "ids_from_chars = tf.keras.layers.StringLookup(\n",
        "vocabulary=list(vocab), mask_token=None)"
      ],
      "metadata": {
        "id": "PJiFB83NUZMZ"
      },
      "execution_count": 7,
      "outputs": []
    },
    {
      "cell_type": "markdown",
      "source": [
        "perintah diatas mengconvert token menjadi id"
      ],
      "metadata": {
        "id": "XR3KSi3JPdaM"
      }
    },
    {
      "cell_type": "code",
      "source": [
        "ids=ids_from_chars(chars)\n",
        "ids"
      ],
      "metadata": {
        "id": "Bcukt73OPedn",
        "outputId": "c0a4c1f6-448b-4070-a9e1-ba7d7ef3d7f8",
        "colab": {
          "base_uri": "https://localhost:8080/"
        }
      },
      "execution_count": 8,
      "outputs": [
        {
          "output_type": "execute_result",
          "data": {
            "text/plain": [
              "<tf.RaggedTensor [[40, 41, 42, 43, 44, 45, 46], [63, 64, 65]]>"
            ]
          },
          "metadata": {},
          "execution_count": 8
        }
      ]
    },
    {
      "cell_type": "markdown",
      "source": [
        "Karena tujuan tutorial ini adalah untuk menghasilkan teks, penting juga untuk membalikkan representasi ini. Untuk ini Anda dapat menggunakan kode `tf.keras.layers.StringLookup(..., invert=True)`.\n",
        "\n",
        "Catatan: pada kode ini, daripada meneruskan kosakata asli yang dihasilkan dengan diurutkan(set(teks)) gunakan metode `get_vocabulary()` dari `tf.keras.layers.StringLookup` sehingga token [UNK] disetel dengan cara yang sama."
      ],
      "metadata": {
        "id": "em1i_xHUPp8s"
      }
    },
    {
      "cell_type": "code",
      "source": [
        "chars_from_ids = tf.keras.layers.StringLookup(\n",
        "    vocabulary=ids_from_chars.get_vocabulary(), invert=True, mask_token=None)"
      ],
      "metadata": {
        "id": "Wxb3Y16ePypZ"
      },
      "execution_count": 9,
      "outputs": []
    },
    {
      "cell_type": "markdown",
      "source": [
        "Lapisan ini mengconvert kembali karakter dari vektor ID, dan mengembalikannya sebagai karakter `tf.RaggedTensor`:"
      ],
      "metadata": {
        "id": "YiyTJPGLP05y"
      }
    },
    {
      "cell_type": "code",
      "source": [
        "chars=chars_from_ids(ids)\n",
        "chars"
      ],
      "metadata": {
        "id": "PWMgAjP_P2m3",
        "outputId": "f06452de-1dc1-4f7f-87a7-36a3eb580bc1",
        "colab": {
          "base_uri": "https://localhost:8080/"
        }
      },
      "execution_count": 10,
      "outputs": [
        {
          "output_type": "execute_result",
          "data": {
            "text/plain": [
              "<tf.RaggedTensor [[b'a', b'b', b'c', b'd', b'e', b'f', b'g'], [b'x', b'y', b'z']]>"
            ]
          },
          "metadata": {},
          "execution_count": 10
        }
      ]
    },
    {
      "cell_type": "markdown",
      "source": [
        "Anda dapat menggunakan `tf.strings.reduce_join` untuk menggabungkan kembali karakter menjadi string."
      ],
      "metadata": {
        "id": "cxwsVMtlP4eb"
      }
    },
    {
      "cell_type": "code",
      "source": [
        "tf.strings.reduce_join(chars,axis=-1).numpy()"
      ],
      "metadata": {
        "id": "nAi-EZRUP_Ur",
        "outputId": "1691dfe5-40f1-4d67-9348-87bb838524d4",
        "colab": {
          "base_uri": "https://localhost:8080/"
        }
      },
      "execution_count": 11,
      "outputs": [
        {
          "output_type": "execute_result",
          "data": {
            "text/plain": [
              "array([b'abcdefg', b'xyz'], dtype=object)"
            ]
          },
          "metadata": {},
          "execution_count": 11
        }
      ]
    },
    {
      "cell_type": "code",
      "source": [
        "def text_from_ids(ids):\n",
        "    return tf.strings.reduce_join(chars_from_ids(ids), axis=-1)"
      ],
      "metadata": {
        "id": "cOBw3kUqP9ew"
      },
      "execution_count": 12,
      "outputs": []
    },
    {
      "cell_type": "markdown",
      "source": [
        "**Prediksi**\n",
        "\n",
        "Diberikan sebuah karakter, atau serangkaian karakter, karakter apa yang paling mungkin berikutnya? Ini adalah tugas yang harus Anda latih agar model dapat melakukannya. Masukan ke model akan berupa urutan karakter, dan Anda melatih model untuk memprediksi keluaran berupa karakter berikut pada setiap langkah waktu. Karena RNN mempertahankan keadaan internal yang bergantung pada elemen yang terlihat sebelumnya, mengingat semua karakter dihitung hingga saat ini, karakter apa selanjutnya?\n",
        "\n"
      ],
      "metadata": {
        "id": "Vp1wPpqZQHX5"
      }
    },
    {
      "cell_type": "markdown",
      "source": [
        "\n",
        "**Membuat Trianing Set dan Target**\n",
        "\n",
        "Selanjutnya bagilah teks menjadi contoh sequence. Setiap masukan sequence akan berisi karakter seq_length dari teks. Untuk setiap masukan sequence, target prediksi berisi teks dengan panjang yang sama, hanya digeser satu karakter ke kanan. Jadi, bagi teks menjadi beberapa bagian `seq_length+1`. Misalnya, seq_length adalah 4 dan teks kita adalah \"Hello\". Urutan masukannya adalah \"Hell\", dan urutan targetnya adalah \"ello\". Untuk melakukan ini, pertama-tama gunakan fungsi tf.data.Dataset.from_tensor_slices untuk mengonversi vektor teks menjadi aliran indeks karakter."
      ],
      "metadata": {
        "id": "j16Vb-T4QMqn"
      }
    },
    {
      "cell_type": "code",
      "source": [
        "all_ids = ids_from_chars(tf.strings.unicode_split(text, 'UTF-8'))\n",
        "all_ids"
      ],
      "metadata": {
        "id": "tB0y0Q6lQRdo",
        "outputId": "159e7f61-ddc4-467d-a69d-70426b51e77f",
        "colab": {
          "base_uri": "https://localhost:8080/"
        }
      },
      "execution_count": 13,
      "outputs": [
        {
          "output_type": "execute_result",
          "data": {
            "text/plain": [
              "<tf.Tensor: shape=(1115394,), dtype=int64, numpy=array([19, 48, 57, ..., 46,  9,  1])>"
            ]
          },
          "metadata": {},
          "execution_count": 13
        }
      ]
    },
    {
      "cell_type": "code",
      "source": [
        "ids_dataset = tf.data.Dataset.from_tensor_slices(all_ids)"
      ],
      "metadata": {
        "id": "QV9FzQfuQSjO"
      },
      "execution_count": 14,
      "outputs": []
    },
    {
      "cell_type": "code",
      "source": [
        "for ids in ids_dataset.take(10):\n",
        "    print(chars_from_ids(ids).numpy().decode('utf-8'))"
      ],
      "metadata": {
        "id": "CWvWCMlOQTho",
        "outputId": "89803504-7069-4a28-d312-b863bfe5343d",
        "colab": {
          "base_uri": "https://localhost:8080/"
        }
      },
      "execution_count": 15,
      "outputs": [
        {
          "output_type": "stream",
          "name": "stdout",
          "text": [
            "F\n",
            "i\n",
            "r\n",
            "s\n",
            "t\n",
            " \n",
            "C\n",
            "i\n",
            "t\n",
            "i\n"
          ]
        }
      ]
    },
    {
      "cell_type": "code",
      "source": [
        "seq_length = 100"
      ],
      "metadata": {
        "id": "WvGKY4RPQUcV"
      },
      "execution_count": 16,
      "outputs": []
    },
    {
      "cell_type": "markdown",
      "source": [
        "Metode batch memungkinkan Anda dengan mudah mengonversi karakter individual ini menjadi urutan ukuran yang diinginkan."
      ],
      "metadata": {
        "id": "wlAsrpQ3QV3F"
      }
    },
    {
      "cell_type": "code",
      "source": [
        "sequences = ids_dataset.batch(seq_length+1, drop_remainder=True)\n",
        "\n",
        "for seq in sequences.take(1):\n",
        "  print(chars_from_ids(seq))"
      ],
      "metadata": {
        "id": "E98tp3b4QXAy",
        "outputId": "b2a047ce-e5e9-4787-9574-f70327435c6d",
        "colab": {
          "base_uri": "https://localhost:8080/"
        }
      },
      "execution_count": 17,
      "outputs": [
        {
          "output_type": "stream",
          "name": "stdout",
          "text": [
            "tf.Tensor(\n",
            "[b'F' b'i' b'r' b's' b't' b' ' b'C' b'i' b't' b'i' b'z' b'e' b'n' b':'\n",
            " b'\\n' b'B' b'e' b'f' b'o' b'r' b'e' b' ' b'w' b'e' b' ' b'p' b'r' b'o'\n",
            " b'c' b'e' b'e' b'd' b' ' b'a' b'n' b'y' b' ' b'f' b'u' b'r' b't' b'h'\n",
            " b'e' b'r' b',' b' ' b'h' b'e' b'a' b'r' b' ' b'm' b'e' b' ' b's' b'p'\n",
            " b'e' b'a' b'k' b'.' b'\\n' b'\\n' b'A' b'l' b'l' b':' b'\\n' b'S' b'p' b'e'\n",
            " b'a' b'k' b',' b' ' b's' b'p' b'e' b'a' b'k' b'.' b'\\n' b'\\n' b'F' b'i'\n",
            " b'r' b's' b't' b' ' b'C' b'i' b't' b'i' b'z' b'e' b'n' b':' b'\\n' b'Y'\n",
            " b'o' b'u' b' '], shape=(101,), dtype=string)\n"
          ]
        }
      ]
    },
    {
      "cell_type": "markdown",
      "source": [
        "akan lebih mudah untuk melihat apa yang dilakukan jika Anda menggabungkan token kembali menjadi string:"
      ],
      "metadata": {
        "id": "rZ0fKsK5QZG0"
      }
    },
    {
      "cell_type": "code",
      "source": [
        "for seq in sequences.take(5):\n",
        "    print(text_from_ids(seq).numpy())"
      ],
      "metadata": {
        "id": "6DlLQCeAQaNK",
        "outputId": "8702c613-7be8-49d7-8057-f28ed8820f84",
        "colab": {
          "base_uri": "https://localhost:8080/"
        }
      },
      "execution_count": 18,
      "outputs": [
        {
          "output_type": "stream",
          "name": "stdout",
          "text": [
            "b'First Citizen:\\nBefore we proceed any further, hear me speak.\\n\\nAll:\\nSpeak, speak.\\n\\nFirst Citizen:\\nYou '\n",
            "b'are all resolved rather to die than to famish?\\n\\nAll:\\nResolved. resolved.\\n\\nFirst Citizen:\\nFirst, you k'\n",
            "b\"now Caius Marcius is chief enemy to the people.\\n\\nAll:\\nWe know't, we know't.\\n\\nFirst Citizen:\\nLet us ki\"\n",
            "b\"ll him, and we'll have corn at our own price.\\nIs't a verdict?\\n\\nAll:\\nNo more talking on't; let it be d\"\n",
            "b'one: away, away!\\n\\nSecond Citizen:\\nOne word, good citizens.\\n\\nFirst Citizen:\\nWe are accounted poor citi'\n"
          ]
        }
      ]
    },
    {
      "cell_type": "markdown",
      "source": [
        "Untuk pelatihan, Anda memerlukan kumpulan data pasangan (input, label). Dimana input dan label merupakan urutan. Pada setiap langkah waktu, inputnya adalah karakter saat ini dan labelnya adalah karakter berikutnya. Berikut adalah fungsi yang mengambil urutan sebagai masukan, menduplikasi, dan menggesernya untuk menyelaraskan masukan dan label untuk setiap langkah waktu:"
      ],
      "metadata": {
        "id": "tekrtQo3QbvH"
      }
    },
    {
      "cell_type": "code",
      "source": [
        "def split_input_target(sequence):\n",
        "    input_text = sequence[:-1]\n",
        "    target_text = sequence[1:]\n",
        "    return input_text, target_text"
      ],
      "metadata": {
        "id": "sgqyNjcoQdN1"
      },
      "execution_count": 19,
      "outputs": []
    },
    {
      "cell_type": "code",
      "source": [
        "split_input_target(list(\"Tensorflow\"))"
      ],
      "metadata": {
        "id": "56r_2F50QeP-",
        "outputId": "57dd5876-c206-402d-8298-0ad3d662ad52",
        "colab": {
          "base_uri": "https://localhost:8080/"
        }
      },
      "execution_count": 20,
      "outputs": [
        {
          "output_type": "execute_result",
          "data": {
            "text/plain": [
              "(['T', 'e', 'n', 's', 'o', 'r', 'f', 'l', 'o'],\n",
              " ['e', 'n', 's', 'o', 'r', 'f', 'l', 'o', 'w'])"
            ]
          },
          "metadata": {},
          "execution_count": 20
        }
      ]
    },
    {
      "cell_type": "code",
      "source": [
        "dataset = sequences.map(split_input_target)"
      ],
      "metadata": {
        "id": "YU_BbT7KQfRV"
      },
      "execution_count": 21,
      "outputs": []
    },
    {
      "cell_type": "code",
      "source": [
        "for input_example, target_example in dataset.take(1):\n",
        "    print(\"Input :\", text_from_ids(input_example).numpy())\n",
        "    print(\"Target:\", text_from_ids(target_example).numpy())"
      ],
      "metadata": {
        "id": "DB8TiONWQgXo",
        "outputId": "fa249ca5-453c-4a9a-d6ba-92d5be53604c",
        "colab": {
          "base_uri": "https://localhost:8080/"
        }
      },
      "execution_count": 22,
      "outputs": [
        {
          "output_type": "stream",
          "name": "stdout",
          "text": [
            "Input : b'First Citizen:\\nBefore we proceed any further, hear me speak.\\n\\nAll:\\nSpeak, speak.\\n\\nFirst Citizen:\\nYou'\n",
            "Target: b'irst Citizen:\\nBefore we proceed any further, hear me speak.\\n\\nAll:\\nSpeak, speak.\\n\\nFirst Citizen:\\nYou '\n"
          ]
        }
      ]
    },
    {
      "cell_type": "markdown",
      "source": [
        "**Membuat Batch Training**\n",
        "\n",
        "Anda menggunakan tf.data untuk membagi teks menjadi sequence yang dapat diatur. Namun sebelum memasukkan data ini ke dalam model, Anda perlu mengacak data dan mengemasnya ke dalam batch."
      ],
      "metadata": {
        "id": "sn2o33UTQhpb"
      }
    },
    {
      "cell_type": "code",
      "source": [
        "# Batch size\n",
        "BATCH_SIZE = 64\n",
        "\n",
        "# Buffer size to shuffle the dataset\n",
        "# (TF data is designed to work with possibly infinite sequences,\n",
        "# so it doesn't attempt to shuffle the entire sequence in memory. Instead,\n",
        "# it maintains a buffer in which it shuffles elements).\n",
        "BUFFER_SIZE = 10000\n",
        "\n",
        "dataset = (\n",
        "    dataset\n",
        "    .shuffle(BUFFER_SIZE)\n",
        "    .batch(BATCH_SIZE, drop_remainder=True)\n",
        "    .prefetch(tf.data.experimental.AUTOTUNE))\n",
        "\n",
        "dataset"
      ],
      "metadata": {
        "id": "rMqGiugfQkcy",
        "outputId": "2f844433-1f7d-40d6-9dd6-9621bf843c07",
        "colab": {
          "base_uri": "https://localhost:8080/"
        }
      },
      "execution_count": 23,
      "outputs": [
        {
          "output_type": "execute_result",
          "data": {
            "text/plain": [
              "<_PrefetchDataset element_spec=(TensorSpec(shape=(64, 100), dtype=tf.int64, name=None), TensorSpec(shape=(64, 100), dtype=tf.int64, name=None))>"
            ]
          },
          "metadata": {},
          "execution_count": 23
        }
      ]
    },
    {
      "cell_type": "markdown",
      "source": [
        "## Buat Model\n",
        "\n",
        "Bagian ini mendefinisikan model sebagai subkelas keras.Model (untuk lebih detilnya, lihat `Making new Layers and Models via subclassing)`.\n",
        "\n",
        "Model yang kita bangun memiliki 3 lapisan neural network :\n",
        "\n",
        "* `tf.keras.layers.Embedding`: Lapisan masukan. Tabel pencarian yang dapat dilatih yang akan memetakan setiap karakter-ID ke vektor dengan dimensi embedding_dim;\n",
        "\n",
        "* `tf.keras.layers.GRU`: lapisan RNN dengan ukuran unit=rnn_units (Anda juga dapat menggunakan lapisan LSTM di sini.)\n",
        "\n",
        "* `tf.keras.layers.Dense`: Lapisan keluaran, dengan keluaran vocab_size. Ini menghasilkan satu logit untuk setiap karakter dalam kosakata. Ini adalah log kemungkinan setiap karakter menurut model."
      ],
      "metadata": {
        "id": "8mqIvp_R2O8R"
      }
    },
    {
      "cell_type": "code",
      "source": [
        "class MyModel(tf.keras.Model):\n",
        "  def __init__(self, vocab_size, embedding_dim, rnn_units):\n",
        "    super().__init__(self)\n",
        "    self.embedding = tf.keras.layers.Embedding(vocab_size, embedding_dim)\n",
        "    self.gru = tf.keras.layers.GRU(rnn_units,\n",
        "                                   return_sequences=True,\n",
        "                                   return_state=True)\n",
        "    self.dense = tf.keras.layers.Dense(vocab_size)\n",
        "\n",
        "  def call(self, inputs, states=None, return_state=False, training=False):\n",
        "    x = inputs\n",
        "    x = self.embedding(x, training=training)\n",
        "    if states is None:\n",
        "      states = self.gru.get_initial_state(x)\n",
        "    x, states = self.gru(x, initial_state=states, training=training)\n",
        "    x = self.dense(x, training=training)\n",
        "\n",
        "    if return_state:\n",
        "      return x, states\n",
        "    else:\n",
        "      return x"
      ],
      "metadata": {
        "id": "zMgndDLD2lpI"
      },
      "execution_count": 25,
      "outputs": []
    },
    {
      "cell_type": "code",
      "source": [
        "# Length of the vocabulary in StringLookup Layer\n",
        "vocab_size = len(ids_from_chars.get_vocabulary())\n",
        "\n",
        "# The embedding dimension\n",
        "embedding_dim = 256\n",
        "\n",
        "# Number of RNN units\n",
        "rnn_units = 1024"
      ],
      "metadata": {
        "id": "OFGFywU92ka3"
      },
      "execution_count": 24,
      "outputs": []
    },
    {
      "cell_type": "code",
      "source": [
        "model = MyModel(\n",
        "    vocab_size=vocab_size,\n",
        "    embedding_dim=embedding_dim,\n",
        "    rnn_units=rnn_units)"
      ],
      "metadata": {
        "id": "k91djvHT2nP1"
      },
      "execution_count": 26,
      "outputs": []
    },
    {
      "cell_type": "markdown",
      "source": [
        "Untuk setiap karakter, model mencari penyematan, menjalankan GRU satu langkah waktu dengan penyematan sebagai masukan, dan menerapkan dense layer untuk menghasilkan log yang memprediksi kemungkinan log karakter berikutnya:"
      ],
      "metadata": {
        "id": "cSW_S9qF2sqr"
      }
    },
    {
      "cell_type": "markdown",
      "source": [
        "![image.png](data:image/png;base64,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)"
      ],
      "metadata": {
        "id": "8o-robHV2uJ6"
      }
    },
    {
      "cell_type": "markdown",
      "source": [
        "Note: Untuk pelatihan Anda bisa menggunakan model keras.Sequential di sini. Untuk menghasilkan teks nanti, Anda harus mengelola status internal RNN. Akan lebih mudah untuk memasukkan opsi input dan output status di awal, daripada mengatur ulang arsitektur model nanti. untuk detailnya bisa dilihat `Keras RNN guide`."
      ],
      "metadata": {
        "id": "4noeGPnn2wAs"
      }
    },
    {
      "cell_type": "markdown",
      "source": [
        "## Uji Model\n",
        "\n",
        "Coba jalankan model dan cek apakah sidah sesuai dengan output\n",
        "pertama, cek bentuk dari output"
      ],
      "metadata": {
        "id": "4gyDJ7fV21Kj"
      }
    },
    {
      "cell_type": "code",
      "source": [
        "for input_example_batch, target_example_batch in dataset.take(1):\n",
        "    example_batch_predictions = model(input_example_batch)\n",
        "    print(example_batch_predictions.shape, \"# (batch_size, sequence_length, vocab_size)\")"
      ],
      "metadata": {
        "id": "mV8WZYsF24xo",
        "outputId": "45f47279-a1bb-48eb-951d-967d7a089dcc",
        "colab": {
          "base_uri": "https://localhost:8080/"
        }
      },
      "execution_count": 27,
      "outputs": [
        {
          "output_type": "stream",
          "name": "stdout",
          "text": [
            "(64, 100, 66) # (batch_size, sequence_length, vocab_size)\n"
          ]
        }
      ]
    },
    {
      "cell_type": "markdown",
      "source": [
        "Dalam contoh di atas, panjang urutan masukan adalah 100 tetapi model dapat dijalankan pada masukan dengan panjang berapa pun:"
      ],
      "metadata": {
        "id": "H59S2Nz227dJ"
      }
    },
    {
      "cell_type": "code",
      "source": [
        "model.summary()"
      ],
      "metadata": {
        "id": "zJNyNGCv26rA",
        "outputId": "310ccd3c-292b-4ac0-8eab-fa3fb4095854",
        "colab": {
          "base_uri": "https://localhost:8080/"
        }
      },
      "execution_count": 28,
      "outputs": [
        {
          "output_type": "stream",
          "name": "stdout",
          "text": [
            "Model: \"my_model\"\n",
            "_________________________________________________________________\n",
            " Layer (type)                Output Shape              Param #   \n",
            "=================================================================\n",
            " embedding (Embedding)       multiple                  16896     \n",
            "                                                                 \n",
            " gru (GRU)                   multiple                  3938304   \n",
            "                                                                 \n",
            " dense (Dense)               multiple                  67650     \n",
            "                                                                 \n",
            "=================================================================\n",
            "Total params: 4022850 (15.35 MB)\n",
            "Trainable params: 4022850 (15.35 MB)\n",
            "Non-trainable params: 0 (0.00 Byte)\n",
            "_________________________________________________________________\n"
          ]
        }
      ]
    },
    {
      "cell_type": "markdown",
      "source": [
        "Untuk mendapatkan prediksi aktual dari model, Anda perlu mengambil sampel dari distribusi keluaran, untuk mendapatkan indeks karakter aktual. Distribusi ini ditentukan oleh logit pada kosakata karakter. Catatan: Penting untuk mengambil sampel dari distribusi ini karena mengambil argmax dari distribusi tersebut dapat dengan mudah membuat model terjebak dalam infinote loop. Cobalah untuk contoh pertama di batch:"
      ],
      "metadata": {
        "id": "z_CqLelE26ZB"
      }
    },
    {
      "cell_type": "code",
      "source": [
        "sampled_indices = tf.random.categorical(example_batch_predictions[0], num_samples=1)\n",
        "sampled_indices = tf.squeeze(sampled_indices, axis=-1).numpy()"
      ],
      "metadata": {
        "id": "Y8Mm0IRB3D3E"
      },
      "execution_count": 29,
      "outputs": []
    },
    {
      "cell_type": "markdown",
      "source": [
        "Hal ini memberi kita, pada setiap langkah waktu, prediksi indeks karakter berikutnya:"
      ],
      "metadata": {
        "id": "vCmO0ds53GCQ"
      }
    },
    {
      "cell_type": "code",
      "source": [
        "sampled_indices"
      ],
      "metadata": {
        "id": "CW232yzQ3H9K",
        "outputId": "99e31e63-7ee0-439d-a94c-3ce35200898d",
        "colab": {
          "base_uri": "https://localhost:8080/"
        }
      },
      "execution_count": 30,
      "outputs": [
        {
          "output_type": "execute_result",
          "data": {
            "text/plain": [
              "array([59, 34, 36, 49,  8, 55,  9, 30, 27, 19, 64, 25, 22, 65, 46, 45, 22,\n",
              "       63, 33, 41, 10, 15, 60, 28, 57,  8, 48, 15, 51, 46, 62, 45, 40, 40,\n",
              "       43, 29, 62,  0, 42,  4,  9, 47, 40, 62,  6, 55, 58, 40,  0, 34, 21,\n",
              "       45, 11,  8, 56, 43, 44, 19,  7, 48, 48, 21, 54, 59, 47, 47, 26, 13,\n",
              "       54, 53, 37,  5,  4, 18, 15, 16, 58, 21,  4, 57, 59, 52, 18, 65, 17,\n",
              "       41, 50, 62, 50, 40,  0, 50, 53, 14, 18,  9, 52, 50,  1, 30])"
            ]
          },
          "metadata": {},
          "execution_count": 30
        }
      ]
    },
    {
      "cell_type": "markdown",
      "source": [
        "Dekode kode berikut untuk melihat teks yang diprediksi oleh model tidak terlatih ini:"
      ],
      "metadata": {
        "id": "9LNmvrNE3K6Y"
      }
    },
    {
      "cell_type": "code",
      "source": [
        "print(\"Input:\\n\", text_from_ids(input_example_batch[0]).numpy())\n",
        "print()\n",
        "print(\"Next Char Predictions:\\n\", text_from_ids(sampled_indices).numpy())"
      ],
      "metadata": {
        "id": "Jsz59jlB3MBH",
        "outputId": "ffb113db-6c4f-4822-8be4-0c1fcdc40428",
        "colab": {
          "base_uri": "https://localhost:8080/"
        }
      },
      "execution_count": 31,
      "outputs": [
        {
          "output_type": "stream",
          "name": "stdout",
          "text": [
            "Input:\n",
            " b'oot;\\nOur archers shall be placed in the midst\\nJohn Duke of Norfolk, Thomas Earl of Surrey,\\nShall hav'\n",
            "\n",
            "Next Char Predictions:\n",
            " b\"tUWj-p.QNFyLIzgfIxTb3BuOr-iBlgwfaadPw[UNK]c$.haw'psa[UNK]UHf:-qdeF,iiHothhM?onX&$EBCsH$rtmEzDbkwka[UNK]knAE.mk\\nQ\"\n"
          ]
        }
      ]
    },
    {
      "cell_type": "markdown",
      "source": [
        "## Train Model\n",
        "\n",
        "Pada titik ini permasalahan dapat dianggap sebagai permasalahan klasifikasi standar. Permasalahan dapat disimpulkan dengan : Berdasarkan status RNN sebelumnya, dan masukan langkah kali ini, prediksi kelas karakter berikutnya.\n",
        "\n"
      ],
      "metadata": {
        "id": "dtH0UUV_3N8S"
      }
    },
    {
      "cell_type": "markdown",
      "source": [
        "**Tambahan optimizer dan fungsi loss**\n",
        "\n",
        "loss function `tf.keras.losses.sparse_categorical_crossentropy` standar berfungsi dalam kasus ini karena diterapkan di seluruh dimensi terakhir prediksi. Karena model Anda mengembalikan logits, Anda perlu mengatur flag `from_logits`."
      ],
      "metadata": {
        "id": "O4T0tsjt3bEP"
      }
    },
    {
      "cell_type": "code",
      "source": [
        "loss = tf.losses.SparseCategoricalCrossentropy(from_logits=True)"
      ],
      "metadata": {
        "id": "FT1NOa-F3NrP"
      },
      "execution_count": 32,
      "outputs": []
    },
    {
      "cell_type": "code",
      "source": [
        "example_batch_mean_loss = loss(target_example_batch, example_batch_predictions)\n",
        "print(\"Prediction shape: \", example_batch_predictions.shape, \" # (batch_size, sequence_length, vocab_size)\")\n",
        "print(\"Mean loss:        \", example_batch_mean_loss)"
      ],
      "metadata": {
        "id": "OrnDE_Ob3yha",
        "outputId": "8abe71a8-1617-4560-b2b2-f1950a40c62e",
        "colab": {
          "base_uri": "https://localhost:8080/"
        }
      },
      "execution_count": 33,
      "outputs": [
        {
          "output_type": "stream",
          "name": "stdout",
          "text": [
            "Prediction shape:  (64, 100, 66)  # (batch_size, sequence_length, vocab_size)\n",
            "Mean loss:         tf.Tensor(4.1909876, shape=(), dtype=float32)\n"
          ]
        }
      ]
    },
    {
      "cell_type": "markdown",
      "source": [
        "Model yang baru diinisialisasi tidak boleh terlalu yakin dengan dirinya sendiri, semua log keluaran harus memiliki besaran yang sama. Untuk mengonfirmasi hal ini, Anda dapat memeriksa bahwa eksponensial dari loss rata-rata harus kira-kira sama dengan ukuran kosakata. Loss yang jauh lebih tinggi berarti model tersebut yakin akan jawaban yang salah, dan memiliki inisialisasi yang buruk:"
      ],
      "metadata": {
        "id": "zugnJMsF31dF"
      }
    },
    {
      "cell_type": "code",
      "source": [
        "tf.exp(example_batch_mean_loss).numpy()"
      ],
      "metadata": {
        "id": "aF5OPxgy327A",
        "outputId": "913f53d4-2f19-4660-e9ea-9f0ccc4d8f98",
        "colab": {
          "base_uri": "https://localhost:8080/"
        }
      },
      "execution_count": 34,
      "outputs": [
        {
          "output_type": "execute_result",
          "data": {
            "text/plain": [
              "66.08803"
            ]
          },
          "metadata": {},
          "execution_count": 34
        }
      ]
    },
    {
      "cell_type": "markdown",
      "source": [
        "Konfigurasikan prosedur pelatihan menggunakan metode tf.keras.Model.compile. Gunakan tf.keras.optimizers.Adam dengan argumen default dan fungsi loss."
      ],
      "metadata": {
        "id": "NrfNff-M352B"
      }
    },
    {
      "cell_type": "code",
      "source": [
        "model.compile(optimizer='adam', loss=loss)"
      ],
      "metadata": {
        "id": "-bfVZDyx35PP"
      },
      "execution_count": 35,
      "outputs": []
    },
    {
      "cell_type": "markdown",
      "source": [
        "**Konfigurasi Checkpoints**\n",
        "\n",
        "Gunakan `tf.keras.callbacks.ModelCheckpoint` untuk memastikan bahwa checkpoint disimpan selama pelatihan:"
      ],
      "metadata": {
        "id": "C6Pj7yzB38z7"
      }
    },
    {
      "cell_type": "code",
      "source": [
        "# Directory where the checkpoints will be saved\n",
        "checkpoint_dir = './training_checkpoints'\n",
        "# Name of the checkpoint files\n",
        "checkpoint_prefix = os.path.join(checkpoint_dir, \"ckpt_{epoch}\")\n",
        "\n",
        "checkpoint_callback = tf.keras.callbacks.ModelCheckpoint(\n",
        "    filepath=checkpoint_prefix,\n",
        "    save_weights_only=True)"
      ],
      "metadata": {
        "id": "jWP-EV__4ACe"
      },
      "execution_count": 36,
      "outputs": []
    },
    {
      "cell_type": "markdown",
      "source": [
        "**Lakukan Proses Training**\n",
        "\n",
        "Agar waktu pelatihan tidak terlalu lama, gunakan 10 epoch untuk melatih model. Di Colab, setel runtime ke GPU untuk pelatihan yang lebih cepat."
      ],
      "metadata": {
        "id": "cHzOVmWV4DQO"
      }
    },
    {
      "cell_type": "code",
      "source": [
        "EPOCHS = 10"
      ],
      "metadata": {
        "id": "MMJlgeff4DAC"
      },
      "execution_count": 37,
      "outputs": []
    },
    {
      "cell_type": "code",
      "source": [
        "history = model.fit(dataset, epochs=EPOCHS, callbacks=[checkpoint_callback])"
      ],
      "metadata": {
        "id": "O4qDRCI64L-2",
        "outputId": "bde2e881-4915-4108-f5b2-04b4ca8d3d58",
        "colab": {
          "base_uri": "https://localhost:8080/"
        }
      },
      "execution_count": 38,
      "outputs": [
        {
          "output_type": "stream",
          "name": "stdout",
          "text": [
            "Epoch 1/10\n",
            "172/172 [==============================] - 14s 55ms/step - loss: 2.7205\n",
            "Epoch 2/10\n",
            "172/172 [==============================] - 11s 53ms/step - loss: 1.9884\n",
            "Epoch 3/10\n",
            "172/172 [==============================] - 11s 53ms/step - loss: 1.7101\n",
            "Epoch 4/10\n",
            "172/172 [==============================] - 11s 54ms/step - loss: 1.5488\n",
            "Epoch 5/10\n",
            "172/172 [==============================] - 11s 55ms/step - loss: 1.4514\n",
            "Epoch 6/10\n",
            "172/172 [==============================] - 11s 56ms/step - loss: 1.3828\n",
            "Epoch 7/10\n",
            "172/172 [==============================] - 12s 54ms/step - loss: 1.3313\n",
            "Epoch 8/10\n",
            "172/172 [==============================] - 11s 54ms/step - loss: 1.2875\n",
            "Epoch 9/10\n",
            "172/172 [==============================] - 11s 54ms/step - loss: 1.2459\n",
            "Epoch 10/10\n",
            "172/172 [==============================] - 11s 54ms/step - loss: 1.2071\n"
          ]
        }
      ]
    },
    {
      "cell_type": "markdown",
      "source": [
        "## Generate Teks\n",
        "\n",
        "Cara termudah untuk menghasilkan teks dengan model ini adalah dengan menjalankannya dalam loop, dan menyimpan status internal model saat Anda menjalankannya."
      ],
      "metadata": {
        "id": "104lRLG24OMN"
      }
    },
    {
      "cell_type": "markdown",
      "source": [
        "![image.png](data:image/png;base64,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)"
      ],
      "metadata": {
        "id": "ceRprTJR4U5F"
      }
    },
    {
      "cell_type": "markdown",
      "source": [
        "Setiap kali Anda memanggil model, Anda memasukkan beberapa teks dan state internal. Model mengembalikan prediksi untuk karakter berikutnya dan state barunya. Masukkan kembali prediksi dan state ke model untuk terus menghasilkan teks.\n",
        "\n",
        "Berikut ini membuat prediksi satu langkah:"
      ],
      "metadata": {
        "id": "fUohRu4B4W4g"
      }
    },
    {
      "cell_type": "code",
      "source": [
        "class OneStep(tf.keras.Model):\n",
        "  def __init__(self, model, chars_from_ids, ids_from_chars, temperature=1.0):\n",
        "    super().__init__()\n",
        "    self.temperature = temperature\n",
        "    self.model = model\n",
        "    self.chars_from_ids = chars_from_ids\n",
        "    self.ids_from_chars = ids_from_chars\n",
        "\n",
        "    # Create a mask to prevent \"[UNK]\" from being generated.\n",
        "    skip_ids = self.ids_from_chars(['[UNK]'])[:, None]\n",
        "    sparse_mask = tf.SparseTensor(\n",
        "        # Put a -inf at each bad index.\n",
        "        values=[-float('inf')]*len(skip_ids),\n",
        "        indices=skip_ids,\n",
        "        # Match the shape to the vocabulary\n",
        "        dense_shape=[len(ids_from_chars.get_vocabulary())])\n",
        "    self.prediction_mask = tf.sparse.to_dense(sparse_mask)\n",
        "\n",
        "  @tf.function\n",
        "  def generate_one_step(self, inputs, states=None):\n",
        "    # Convert strings to token IDs.\n",
        "    input_chars = tf.strings.unicode_split(inputs, 'UTF-8')\n",
        "    input_ids = self.ids_from_chars(input_chars).to_tensor()\n",
        "\n",
        "    # Run the model.\n",
        "    # predicted_logits.shape is [batch, char, next_char_logits]\n",
        "    predicted_logits, states = self.model(inputs=input_ids, states=states,\n",
        "                                          return_state=True)\n",
        "    # Only use the last prediction.\n",
        "    predicted_logits = predicted_logits[:, -1, :]\n",
        "    predicted_logits = predicted_logits/self.temperature\n",
        "    # Apply the prediction mask: prevent \"[UNK]\" from being generated.\n",
        "    predicted_logits = predicted_logits + self.prediction_mask\n",
        "\n",
        "    # Sample the output logits to generate token IDs.\n",
        "    predicted_ids = tf.random.categorical(predicted_logits, num_samples=1)\n",
        "    predicted_ids = tf.squeeze(predicted_ids, axis=-1)\n",
        "\n",
        "    # Convert from token ids to characters\n",
        "    predicted_chars = self.chars_from_ids(predicted_ids)\n",
        "\n",
        "    # Return the characters and model state.\n",
        "    return predicted_chars, states"
      ],
      "metadata": {
        "id": "bE4Ni5hm4Y3s"
      },
      "execution_count": 39,
      "outputs": []
    },
    {
      "cell_type": "code",
      "source": [
        "one_step_model = OneStep(model, chars_from_ids, ids_from_chars)"
      ],
      "metadata": {
        "id": "Clj1O6a_4ah8"
      },
      "execution_count": 40,
      "outputs": []
    },
    {
      "cell_type": "markdown",
      "source": [
        "Jalankan secara berulang untuk menghasilkan beberapa teks. Melihat teks yang dihasilkan, Anda akan melihat model mengetahui kapan harus menggunakan huruf besar, membuat paragraf, dan meniru kosakata menulis seperti Shakespeare. Karena sedikitnya jumlah epoch pelatihan, model belum belajar membentuk kalimat runtut."
      ],
      "metadata": {
        "id": "rvIMd5Sn4cRF"
      }
    },
    {
      "cell_type": "code",
      "source": [
        "start = time.time()\n",
        "states = None\n",
        "next_char = tf.constant(['ROMEO:'])\n",
        "result = [next_char]\n",
        "\n",
        "for n in range(1000):\n",
        "  next_char, states = one_step_model.generate_one_step(next_char, states=states)\n",
        "  result.append(next_char)\n",
        "\n",
        "result = tf.strings.join(result)\n",
        "end = time.time()\n",
        "print(result[0].numpy().decode('utf-8'), '\\n\\n' + '_'*80)\n",
        "print('\\nRun time:', end - start)"
      ],
      "metadata": {
        "id": "qYNw4n_84dWa",
        "colab": {
          "base_uri": "https://localhost:8080/"
        },
        "outputId": "c648c1fd-cda5-475b-cc45-c29a843200b0"
      },
      "execution_count": 41,
      "outputs": [
        {
          "output_type": "stream",
          "name": "stdout",
          "text": [
            "ROMEO:\n",
            "My heart is thus? would you take my lord:\n",
            "Weight not so least, nor? us'd by King Riccarl.\n",
            "\n",
            "Luy,\n",
            "Come, we'll hear Lord Angelo; and therefore, good news, Ay\n",
            "honour fen to seen you to Bolingbroke,\n",
            "Have I with help and she's; to quench the\n",
            "purpose. There all upon your weeds,\n",
            "To queen a screapuance of your habmured.\n",
            "Pertwere we need not one, speak crook, but it is three\n",
            "False.\n",
            "\n",
            "MENENIUS:\n",
            "He's: let's sink a pity mother.\n",
            "For I am none good. Most pitiedle; farewell: if you please me.\n",
            "\n",
            "JOHN OF GAUNT:\n",
            "None shut,--\n",
            "Nor Jease are trade presently your oath\n",
            "Or speak to prince Had I be yet too look. How I would he not?\n",
            "Were merely showin me, Gentlemen,\n",
            "With place he and their old fabenceward. One that I\n",
            "was wonted.\n",
            "\n",
            "KING RICHARD III:\n",
            "Say, I'll not adds, I be undoned, broking\n",
            "galate, and tender you with death?\n",
            "Henreching you go to France and honour,\n",
            "For Henry hath less here,\n",
            "My bearing shall be dishonour'd breast.\n",
            "Thou shouths are all all ours on't; for God's head,\n",
            "Edward with glorgs: the parsing is\n",
            " \n",
            "\n",
            "________________________________________________________________________________\n",
            "\n",
            "Run time: 3.2491469383239746\n"
          ]
        }
      ]
    },
    {
      "cell_type": "markdown",
      "source": [
        "Hal termudah yang dapat Anda lakukan untuk meningkatkan hasil adalah dengan melatihnya lebih lama (coba EPOCHS = 30). Anda juga dapat bereksperimen dengan string awal yang berbeda, mencoba menambahkan lapisan RNN lain untuk meningkatkan akurasi model, atau menyesuaikan parameter suhu untuk menghasilkan prediksi yang kurang lebih acak.\n",
        "\n",
        "Jika Anda ingin model menghasilkan teks lebih cepat, hal termudah yang dapat Anda lakukan adalah membuat teks secara batch. Pada contoh di bawah, model menghasilkan 5 keluaran dalam waktu yang hampir sama dengan waktu yang dibutuhkan untuk menghasilkan 1 keluaran di atas."
      ],
      "metadata": {
        "id": "lZrifADm4fBh"
      }
    },
    {
      "cell_type": "code",
      "source": [
        "start = time.time()\n",
        "states = None\n",
        "next_char = tf.constant(['ROMEO:', 'ROMEO:', 'ROMEO:', 'ROMEO:', 'ROMEO:'])\n",
        "result = [next_char]\n",
        "\n",
        "for n in range(1000):\n",
        "  next_char, states = one_step_model.generate_one_step(next_char, states=states)\n",
        "  result.append(next_char)\n",
        "\n",
        "result = tf.strings.join(result)\n",
        "end = time.time()\n",
        "print(result, '\\n\\n' + '_'*80)\n",
        "print('\\nRun time:', end - start)"
      ],
      "metadata": {
        "id": "xUUJDBG14hDX",
        "colab": {
          "base_uri": "https://localhost:8080/"
        },
        "outputId": "e9dde2f2-44c3-4809-900e-84e4c74d4da3"
      },
      "execution_count": 42,
      "outputs": [
        {
          "output_type": "stream",
          "name": "stdout",
          "text": [
            "tf.Tensor(\n",
            "[b\"ROMEO:\\nHuntsman, go; but the very groam's dangers,\\nLeadness make her becomes the sad\\nOf the power for death's death blue,\\nit-dambace-brithen be yonked monster, saying,\\nFord most hit that guilty cannot long to be beld.\\nHow far off go: gear thou farest our father; but\\nI presently not to Romeo, beseech you;\\nFor perjurence in this by double and rewels?\\n\\nGentleman:\\nPray God, this is there?\\nCome, gentle, fair! I most confess\\nThe smallest sickly should not stay him\\nTo unstain it glonce. move me, nor my musin.\\n\\nLADY ANNE:\\nMistrized, that's more disconvent's fick-foot,\\nMy mal oath!--what'elf, joult, and every gracious lost\\nAs you make many beceived of doom.\\nWhat am thy tackles side, I prithee.\\nPrithong,\\nMine, farewell; as, Warwick's scene. Sit hath I not\\nchange your wars deserved body to endured would fly:\\nAnd, begin men tirech that out\\nof heavenly by indection; and the last\\nMore paid Mosidius had carreelled, will haveful.\\n\\nLUCIO:\\nWhat shouldst thou quoth he would keep to give them of the sun\\nNe'er t\"\n",
            " b\"ROMEO:\\nHere in, in God and give away to personal,\\nWhole one be kept becomen to his sight,\\nUnder your father is settled death,\\nWhen we march him we should be tender'd deed.\\nI coal to our, furning thus wrong'd! I had have beound too much.\\nAnd make it study.\\nMathagent that she says she venvey are enough:\\nAy, testimate-house. But come yinker, in pebbard,\\nThink'st thou dota go bend to your terstion weigh'd\\nfor and he is grieved: our case.\\n\\nPOMPEY:\\nHore pitch'd wife, and best and forced me now,\\nIf\\nWas ever many one age. Gloucester, open, I\\nwill give him dishonour: if assured he be less\\nshe, my brows both to great! how! or a duncy and his mother,\\nThat braves march and lendy to his king:\\nShe was such destroy'd with bridegrooms. We must applay the mind,\\nTo auting or two of foreignidous time:\\nWhy, no uttunder take her royal draw you, no,\\nStanding their jessoniest and drink. Thou art, I have done\\nTwenty tears to undertaken. Commends me how.\\n\\nBAPTISTA:\\nI am in thing I know that comes to repossing\\nDeath \"\n",
            " b\"ROMEO:\\nSirrah, was much o' boy.\\n\\nVINCENTIO:\\nMarry, last good fellows; he fear thee, trust under talk,\\nAnd when men will not pluck me and I would be\\nupon me.\\nThe king and he is deadly and I do clooked when he stir\\nTo-nights. I tell you, gentle! a merry flatter, than it is but neart,\\nDesign to make bless me to-morrow, we say\\nHow will doth her, being myself, by gently keep your stings,\\nMy poor silver strifes out an youth,\\nWhose wife case would be mostaged, let's all\\ndespair: I shall something rich, keptely in\\nme herefalt. For thou be converiement that\\nI prisoned himself for colpenetion should\\nstuff conjure and day in either wide.\\n\\nKING EDWARD IV:\\nNow, by gentle yes, here gretimongen;\\nI told charge you, masters, al ash for consented\\nOf one inferitions.\\n\\nANTONIO:\\nShe hath three was both,--\\nWell, let's laugued the feed of tenders;\\nOur foin ends?--\\n\\nISAMELLA:\\nWhat famils are the looks to me drinkest fear, must sit\\nWhich ne'd he reign to surpens to see\\nBe fived in thine eye, and rather no more busin\"\n",
            " b\"ROMEO:\\nBetter, man\\nI be gone; and 'tis my face: then is no matches a delight\\nAnd gave your honour-rages; heartily be return;\\nFor every daughter is tells; whose manners that would make you\\nbearing and none of Warwick, and even to get how\\nAs he is groans. Look, Master Rurse!\\nBeseech you: were my cause! what news be seen?\\n\\nEAse SIINGld:\\nAnd even ha! I think thou? how's a shum,\\nMy and o'er once, that we feed to-morrow;\\nAnd, and master in their servants yet down confess,\\nTenderance is to be.\\n\\nLuchather rehold\\nThan ventusied speachelikes, thou jealous\\nconfearing: get him and receive the sun\\nMay craze it now, what fearledy blows\\nThat do request; I must tawny too late consuls?\\n\\nFLORIZEL:\\nYou love his shame, should you then, so sufficiea,\\nLet not be beauty to my woes! you have often\\nconsuitors our lates at the preceiveness\\nDroger of cunning one father to extre this chalt;\\nCome, go but boyness long, apothealy solex,\\nOne in our reporm your grouch of mine own. Mendod on one,\\nWe'e had weareded time of my\"\n",
            " b\"ROMEO:\\nBy faith, I will be af usure,\\nMistress I have not spoke my gracious end.\\n\\nJULIET:\\nNow, Ispray, yet you that do there is no vinay; but thou keep'st, make execute\\nthough but that hope I have left as one of your spliends,\\nNor our confessor queen, service than he,\\nI' the ministed of your own hisbeass, and not say I\\nKate, I see, if I find at grief, for in\\nsect sentenced thrusand times, tyrant?\\nAnd will I pluck my titings. What news I love not, here\\nCleorese than his plague in in a vause,\\nAnd every way on his body be?\\n\\nEXETER:\\nHe is a grave; mine honour should love thy seem,\\nAs ever.\\n\\nDUKE VINCENTIO:\\nIndeed, I stand yet. To young phace, from my prisoner,\\nCan yink the day bears it to thy deeds:\\nCar you done friends; O'll be no done to you.\\nMarrany folloom your affordance.\\n\\nPETRUCHIO:\\nShall askit him in.\\n\\nLADY CAPULET:\\nHence; and do not kill, great, I will love the best;\\nAnd in this lady asly matter; and\\nif good time, I know thine each one's of me.\\n\\nGLOUCESTER:\\nLet me: we must desy,\\nThen 'tis\"], shape=(5,), dtype=string) \n",
            "\n",
            "________________________________________________________________________________\n",
            "\n",
            "Run time: 3.5954642295837402\n"
          ]
        }
      ]
    },
    {
      "cell_type": "markdown",
      "source": [
        "## Ekspor Model Generator\n",
        "\n",
        "Model satu langkah ini dapat dengan mudah disimpan dan digunakan kembali, memungkinkan Anda menggunakannya di mana pun tf.`saved_model` diterima."
      ],
      "metadata": {
        "id": "diCLulx-4i5i"
      }
    },
    {
      "cell_type": "code",
      "source": [
        "tf.saved_model.save(one_step_model, 'one_step')\n",
        "one_step_reloaded = tf.saved_model.load('one_step')"
      ],
      "metadata": {
        "id": "uFKd0vL74nBC",
        "colab": {
          "base_uri": "https://localhost:8080/"
        },
        "outputId": "17e87fde-5e9d-48f2-ef36-a648b0713e2f"
      },
      "execution_count": 43,
      "outputs": [
        {
          "output_type": "stream",
          "name": "stderr",
          "text": [
            "WARNING:tensorflow:Skipping full serialization of Keras layer <__main__.OneStep object at 0x7faab3acc3a0>, because it is not built.\n",
            "WARNING:tensorflow:Model's `__init__()` arguments contain non-serializable objects. Please implement a `get_config()` method in the subclassed Model for proper saving and loading. Defaulting to empty config.\n",
            "WARNING:tensorflow:Model's `__init__()` arguments contain non-serializable objects. Please implement a `get_config()` method in the subclassed Model for proper saving and loading. Defaulting to empty config.\n"
          ]
        }
      ]
    },
    {
      "cell_type": "code",
      "source": [
        "states = None\n",
        "next_char = tf.constant(['ROMEO:'])\n",
        "result = [next_char]\n",
        "\n",
        "for n in range(100):\n",
        "  next_char, states = one_step_reloaded.generate_one_step(next_char, states=states)\n",
        "  result.append(next_char)\n",
        "\n",
        "print(tf.strings.join(result)[0].numpy().decode(\"utf-8\"))"
      ],
      "metadata": {
        "id": "DcWEuzu-4oIx",
        "colab": {
          "base_uri": "https://localhost:8080/"
        },
        "outputId": "9f274023-92c4-4b73-8fe7-3574049570c9"
      },
      "execution_count": 44,
      "outputs": [
        {
          "output_type": "stream",
          "name": "stdout",
          "text": [
            "ROMEO:\n",
            "How now! Vold-holy or hard! who should not wringle finger\n",
            "And stoom out outwar in the flee,\n",
            "And mak\n"
          ]
        }
      ]
    },
    {
      "cell_type": "markdown",
      "source": [
        "---\n",
        "# TUGAS\n"
      ],
      "metadata": {
        "id": "S3jiSgHnGc_m"
      }
    },
    {
      "cell_type": "markdown",
      "source": [
        "Prosedur pelatihan pada praktikum 2 merupakan prosedur sederhana, yang tidak memberi Anda banyak kendali. Model ini menggunakan \"teacher-forcing\" yang mencegah prediksi buruk diumpankan kembali ke model, sehingga model tidak pernah belajar untuk pulih dari kesalahan. Jadi, setelah Anda melihat cara menjalankan model secara manual, selanjutnya Anda akan mengimplementasikan custom loop pelatihan. Hal ini memberikan titik awal jika, misalnya, Anda ingin menerapkan pembelajaran kurikulum untuk membantu menstabilkan keluaran open-loop model. Bagian terpenting dari loop pelatihan khusus adalah fungsi langkah pelatihan.\n",
        "\n",
        "\n",
        "Gunakan `tf.GradientTape` untuk men track nilai gradient. Anda dapat mempelajari lebih lanjut tentang pendekatan ini dengan membaca `eager execution guide`.\n",
        "\n",
        "Prosedurnya adalah \"\n",
        "1. Jalankan Model dan hitung loss dengan tf.GradientTape.\n",
        "2. Hitung update dan terapkan pada model dengan optimizer"
      ],
      "metadata": {
        "id": "Hv-rOEaDGc_n"
      }
    },
    {
      "cell_type": "code",
      "source": [
        "class CustomTraining(MyModel):\n",
        "  @tf.function\n",
        "  def train_step(self, inputs):\n",
        "      inputs, labels = inputs\n",
        "      with tf.GradientTape() as tape:\n",
        "          predictions = self(inputs, training=True)\n",
        "          loss = self.loss(labels, predictions)\n",
        "      grads = tape.gradient(loss, model.trainable_variables)\n",
        "      self.optimizer.apply_gradients(zip(grads, model.trainable_variables))\n",
        "\n",
        "      return {'loss': loss}"
      ],
      "metadata": {
        "id": "cGTDVbBIGqy0"
      },
      "execution_count": 45,
      "outputs": []
    },
    {
      "cell_type": "markdown",
      "source": [
        "Kode diatas menerapkan `train_step method` sesuai dengan  `Keras' train_step conventions`. Ini opsional, tetapi memungkinkan Anda mengubah perilaku langkah pelatihan dan tetap menggunakan keras `Model.compile` and `Model.fit methods`."
      ],
      "metadata": {
        "id": "hdmva3WgHC_w"
      }
    },
    {
      "cell_type": "code",
      "source": [
        "model = CustomTraining(\n",
        "    vocab_size=len(ids_from_chars.get_vocabulary()),\n",
        "    embedding_dim=embedding_dim,\n",
        "    rnn_units=rnn_units)"
      ],
      "metadata": {
        "id": "KPli1Z5fHJll"
      },
      "execution_count": 46,
      "outputs": []
    },
    {
      "cell_type": "code",
      "source": [
        "model.compile(optimizer = tf.keras.optimizers.Adam(),\n",
        "              loss=tf.keras.losses.SparseCategoricalCrossentropy(from_logits=True))"
      ],
      "metadata": {
        "id": "EgqFVIeGHLK1"
      },
      "execution_count": 47,
      "outputs": []
    },
    {
      "cell_type": "markdown",
      "source": [
        "Atau jika ingin lebih mengetahui dalamnya, kita bisa membuat custom training loop sendiri:"
      ],
      "metadata": {
        "id": "PT8M-0QVHOq_"
      }
    },
    {
      "cell_type": "code",
      "source": [
        "EPOCHS = 10\n",
        "\n",
        "mean = tf.metrics.Mean()\n",
        "\n",
        "for epoch in range(EPOCHS):\n",
        "    start = time.time()\n",
        "\n",
        "    mean.reset_states()\n",
        "    for (batch_n, (inp, target)) in enumerate(dataset):\n",
        "        logs = model.train_step([inp, target])\n",
        "        mean.update_state(logs['loss'])\n",
        "\n",
        "        if batch_n % 50 == 0:\n",
        "            template = f\"Epoch {epoch+1} Batch {batch_n} Loss {logs['loss']:.4f}\"\n",
        "            print(template)\n",
        "\n",
        "    # saving (checkpoint) the model every 5 epochs\n",
        "    if (epoch + 1) % 5 == 0:\n",
        "        model.save_weights(checkpoint_prefix.format(epoch=epoch))\n",
        "\n",
        "    print()\n",
        "    print(f'Epoch {epoch+1} Loss: {mean.result().numpy():.4f}')\n",
        "    print(f'Time taken for 1 epoch {time.time() - start:.2f} sec')\n",
        "    print(\"_\"*80)\n",
        "\n",
        "model.save_weights(checkpoint_prefix.format(epoch=epoch))"
      ],
      "metadata": {
        "id": "k8qoKbNQHQ1_",
        "outputId": "2da568b1-c4e1-4512-ebee-c4d2e7b4b87b",
        "colab": {
          "base_uri": "https://localhost:8080/"
        }
      },
      "execution_count": 48,
      "outputs": [
        {
          "output_type": "stream",
          "name": "stdout",
          "text": [
            "Epoch 1 Batch 0 Loss 4.1893\n",
            "Epoch 1 Batch 50 Loss 2.8198\n",
            "Epoch 1 Batch 100 Loss 2.3705\n",
            "Epoch 1 Batch 150 Loss 2.2396\n",
            "\n",
            "Epoch 1 Loss: 2.7140\n",
            "Time taken for 1 epoch 13.37 sec\n",
            "________________________________________________________________________________\n",
            "Epoch 2 Batch 0 Loss 2.2074\n",
            "Epoch 2 Batch 50 Loss 2.0463\n",
            "Epoch 2 Batch 100 Loss 1.9175\n",
            "Epoch 2 Batch 150 Loss 1.8696\n",
            "\n",
            "Epoch 2 Loss: 1.9826\n",
            "Time taken for 1 epoch 10.62 sec\n",
            "________________________________________________________________________________\n",
            "Epoch 3 Batch 0 Loss 1.8367\n",
            "Epoch 3 Batch 50 Loss 1.7541\n",
            "Epoch 3 Batch 100 Loss 1.6904\n",
            "Epoch 3 Batch 150 Loss 1.6229\n",
            "\n",
            "Epoch 3 Loss: 1.7049\n",
            "Time taken for 1 epoch 11.45 sec\n",
            "________________________________________________________________________________\n",
            "Epoch 4 Batch 0 Loss 1.6020\n",
            "Epoch 4 Batch 50 Loss 1.5647\n",
            "Epoch 4 Batch 100 Loss 1.5504\n",
            "Epoch 4 Batch 150 Loss 1.5077\n",
            "\n",
            "Epoch 4 Loss: 1.5465\n",
            "Time taken for 1 epoch 10.38 sec\n",
            "________________________________________________________________________________\n",
            "Epoch 5 Batch 0 Loss 1.4314\n",
            "Epoch 5 Batch 50 Loss 1.4544\n",
            "Epoch 5 Batch 100 Loss 1.4080\n",
            "Epoch 5 Batch 150 Loss 1.4815\n",
            "\n",
            "Epoch 5 Loss: 1.4490\n",
            "Time taken for 1 epoch 10.50 sec\n",
            "________________________________________________________________________________\n",
            "Epoch 6 Batch 0 Loss 1.4380\n",
            "Epoch 6 Batch 50 Loss 1.3638\n",
            "Epoch 6 Batch 100 Loss 1.3869\n",
            "Epoch 6 Batch 150 Loss 1.3962\n",
            "\n",
            "Epoch 6 Loss: 1.3800\n",
            "Time taken for 1 epoch 10.42 sec\n",
            "________________________________________________________________________________\n",
            "Epoch 7 Batch 0 Loss 1.3794\n",
            "Epoch 7 Batch 50 Loss 1.2709\n",
            "Epoch 7 Batch 100 Loss 1.3075\n",
            "Epoch 7 Batch 150 Loss 1.3185\n",
            "\n",
            "Epoch 7 Loss: 1.3286\n",
            "Time taken for 1 epoch 10.35 sec\n",
            "________________________________________________________________________________\n",
            "Epoch 8 Batch 0 Loss 1.2857\n",
            "Epoch 8 Batch 50 Loss 1.3048\n",
            "Epoch 8 Batch 100 Loss 1.2855\n",
            "Epoch 8 Batch 150 Loss 1.3013\n",
            "\n",
            "Epoch 8 Loss: 1.2841\n",
            "Time taken for 1 epoch 11.15 sec\n",
            "________________________________________________________________________________\n",
            "Epoch 9 Batch 0 Loss 1.2320\n",
            "Epoch 9 Batch 50 Loss 1.1987\n",
            "Epoch 9 Batch 100 Loss 1.2377\n",
            "Epoch 9 Batch 150 Loss 1.2389\n",
            "\n",
            "Epoch 9 Loss: 1.2425\n",
            "Time taken for 1 epoch 11.62 sec\n",
            "________________________________________________________________________________\n",
            "Epoch 10 Batch 0 Loss 1.1786\n",
            "Epoch 10 Batch 50 Loss 1.2011\n",
            "Epoch 10 Batch 100 Loss 1.2195\n",
            "Epoch 10 Batch 150 Loss 1.2024\n",
            "\n",
            "Epoch 10 Loss: 1.2025\n",
            "Time taken for 1 epoch 11.66 sec\n",
            "________________________________________________________________________________\n"
          ]
        }
      ]
    },
    {
      "cell_type": "markdown",
      "source": [
        "Terdapat beberapa perbedaan utama antara praktikum 2 dan pelatihan tugas yang jalankan:\n",
        "\n",
        "1. **Model Architectures**:\n",
        "   - Praktikum 2 menggunakan model bahasa berdasarkan RNN (Recurrent Neural Network), sementara pelatihan tugas  mungkin menggunakan arsitektur yang berbeda, seperti GRU (Gated Recurrent Unit) dalam model .\n",
        "   - Praktikum 2 mungkin lebih sederhana dalam hal arsitektur model karena digunakan sebagai demonstrasi dasar. Model pelatihan tugas tampaknya memiliki lapisan embedding, lapisan GRU, dan lapisan dense.\n",
        "\n",
        "2. **Epochs**:\n",
        "   - Dalam praktikum 2, menjalankan model selama 20 epoch, sedangkan dalam pelatihan tugas , melatih model selama 10 epoch.\n",
        "\n",
        "3. **Prosedur Pelatihan**:\n",
        "   - Praktikum 2 mungkin lebih sederhana dalam hal pelatihan dan menggunakan API `model.fit()` bawaan Keras.\n",
        "   - Dalam pelatihan tugas ,  mengimplementasikan loop pelatihan khusus dengan menggunakan `train_step`, yang memberikan lebih banyak kontrol atas proses pelatihan, seperti pengukuran loss, perhitungan gradien, dan optimasi.\n",
        "\n",
        "4. **Output Hasil Pelatihan**:\n",
        "   - Hasil dari praktikum 2 adalah informasi singkat tentang loss selama pelatihan tanpa informasi lebih lanjut tentang perbedaan antar epoch atau waktu eksekusi.\n",
        "   - Dalam pelatihan tugas ,  mencantumkan loss untuk setiap batch dan untuk setiap epoch, serta waktu yang diperlukan untuk menjalankan setiap epoch.\n",
        "\n",
        "5. **Waktu Eksekusi**:\n",
        "   - Waktu eksekusi per epoch mungkin berbeda di antara kedua eksperimen karena praktikum 2 mungkin lebih cepat dalam pengaturan default, sedangkan dalam pelatihan tugas, waktu eksekusi mungkin lebih lama karena  menjalankan model selama lebih banyak epoch.\n"
      ],
      "metadata": {
        "id": "Sdmo-jQdM_Hs"
      }
    }
  ]
}