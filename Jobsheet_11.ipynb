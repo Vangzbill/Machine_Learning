{
  "nbformat": 4,
  "nbformat_minor": 0,
  "metadata": {
    "colab": {
      "provenance": [],
      "gpuType": "T4",
      "authorship_tag": "ABX9TyNntdeWl6hY1bcR4Q0fn4Ws",
      "include_colab_link": true
    },
    "kernelspec": {
      "name": "python3",
      "display_name": "Python 3"
    },
    "language_info": {
      "name": "python"
    },
    "accelerator": "GPU"
  },
  "cells": [
    {
      "cell_type": "markdown",
      "metadata": {
        "id": "view-in-github",
        "colab_type": "text"
      },
      "source": [
        "<a href=\"https://colab.research.google.com/github/Vangzbill/Machine_Learning/blob/main/Jobsheet_11.ipynb\" target=\"_parent\"><img src=\"https://colab.research.google.com/assets/colab-badge.svg\" alt=\"Open In Colab\"/></a>"
      ]
    },
    {
      "cell_type": "markdown",
      "source": [
        "**Jobsheet Machine Learning**\n",
        "***\n",
        "\n",
        "Nama      : Sabilla Luthfi Rahmadhan\n",
        "\n",
        "No Absen  : 19\n",
        "\n",
        "Kelas     : TI-3G\n",
        "***"
      ],
      "metadata": {
        "id": "UJxo-qvCSaI9"
      }
    },
    {
      "cell_type": "markdown",
      "source": [
        "> # **🍑 Praktikum 1** *Klasifikasi 🐱 dan 🐶*"
      ],
      "metadata": {
        "id": "6hbOUjCjnjJx"
      }
    },
    {
      "cell_type": "markdown",
      "source": [
        "**Deskripsi**\n",
        "\n",
        "*Pada praktikum ini kita akan membuat model klasifikasi CNN sederhana pada kasus citra kucing dan anjing.*\n",
        "\n",
        "**Dataset**\n",
        "\n",
        "*Dataset merupakan data citra anjing dan kucing yang telah dibagi menjadi data training dan data testing. Dikarenakan data cukup besar, pastikan koneksi Anda sebelum mengunduh dataset.*\n",
        "\n",
        "[DOWNLOAD](https://drive.google.com/file/d/1vYrqBI1VmiXXJd5sgtKK2nuQvC8T1ryb/view?usp=drive_link)\n",
        "\n",
        "**🍌 Langkah 1 - Import Library**"
      ],
      "metadata": {
        "id": "-iQraJt4n6DT"
      }
    },
    {
      "cell_type": "code",
      "source": [
        "from google.colab import drive\n",
        "drive.mount('/content/drive')"
      ],
      "metadata": {
        "colab": {
          "base_uri": "https://localhost:8080/"
        },
        "id": "GZVWLDK2vARz",
        "outputId": "5e2517d6-ffb1-4eec-d3e2-a10b28ea7c0e"
      },
      "execution_count": 1,
      "outputs": [
        {
          "output_type": "stream",
          "name": "stdout",
          "text": [
            "Mounted at /content/drive\n"
          ]
        }
      ]
    },
    {
      "cell_type": "code",
      "source": [
        "from zipfile import ZipFile\n",
        "with ZipFile('/content/drive/MyDrive/Machine Learning/dataset.zip', 'r') as zipobj:\n",
        "  zipobj.extractall('/content/drive/MyDrive/Machine Learning')"
      ],
      "metadata": {
        "id": "NMCx-V_rA1z-"
      },
      "execution_count": 3,
      "outputs": []
    },
    {
      "cell_type": "code",
      "execution_count": 4,
      "metadata": {
        "id": "SGdS7S_UmcvO"
      },
      "outputs": [],
      "source": [
        "import tensorflow as tf\n",
        "from keras.preprocessing.image import ImageDataGenerator"
      ]
    },
    {
      "cell_type": "markdown",
      "source": [
        "**🍌 Langkah 2 - Pra Pengolahan Data**\n",
        "\n",
        "*Pada tahap ini kita akan sedikit melakukan manipulasi pada citra yang digunakan. Manipulasi yang dilakukan diantaranya adalah normalisasi nilai piksel, koreksi kemiringan, pembesaran (zoom), dan flip.*\n",
        "\n",
        "**Langkah 2.1. Pra Pengolahan Data Training**"
      ],
      "metadata": {
        "id": "-gYfSNkfoveS"
      }
    },
    {
      "cell_type": "code",
      "source": [
        "train_datagen = ImageDataGenerator(rescale = 1./255,\n",
        "                                   shear_range = 0.2,\n",
        "                                   zoom_range = 0.2,\n",
        "                                   horizontal_flip = True)\n",
        "training_set = train_datagen.flow_from_directory('/content/drive/MyDrive/Machine Learning/dataset/training_set',\n",
        "                                                 target_size = (64, 64),\n",
        "                                                 batch_size = 32,\n",
        "                                                 class_mode = 'binary')"
      ],
      "metadata": {
        "colab": {
          "base_uri": "https://localhost:8080/"
        },
        "id": "v0OhCyqfpFi4",
        "outputId": "8018d842-674d-4e2b-af0c-795b07c7ba1d"
      },
      "execution_count": 6,
      "outputs": [
        {
          "output_type": "stream",
          "name": "stdout",
          "text": [
            "Found 8000 images belonging to 2 classes.\n"
          ]
        }
      ]
    },
    {
      "cell_type": "markdown",
      "source": [
        "**Langkah 2.2. Pra Pengolahan Data Testing**"
      ],
      "metadata": {
        "id": "Tg_u3nvMpna_"
      }
    },
    {
      "cell_type": "code",
      "source": [
        "test_datagen = ImageDataGenerator(rescale = 1./255)\n",
        "test_set = test_datagen.flow_from_directory('/content/drive/MyDrive/Machine Learning/dataset/test_set',\n",
        "                                            target_size = (64, 64),\n",
        "                                            batch_size = 32,\n",
        "                                            class_mode = 'binary')"
      ],
      "metadata": {
        "colab": {
          "base_uri": "https://localhost:8080/"
        },
        "id": "SJqWEc6LpqD9",
        "outputId": "0fed6880-379b-4983-d00b-71e768e2c81b"
      },
      "execution_count": 7,
      "outputs": [
        {
          "output_type": "stream",
          "name": "stdout",
          "text": [
            "Found 2000 images belonging to 2 classes.\n"
          ]
        }
      ]
    },
    {
      "cell_type": "markdown",
      "source": [
        "**🍌 Langkah 3 - Pembuatan Model CNN**\n",
        "\n",
        "**Langkah 3.1.  - Inisiasi Model CNN**"
      ],
      "metadata": {
        "id": "SoFQTi20psdl"
      }
    },
    {
      "cell_type": "code",
      "source": [
        "cnn = tf.keras.models.Sequential()"
      ],
      "metadata": {
        "id": "liYO6uoxqLu-"
      },
      "execution_count": 8,
      "outputs": []
    },
    {
      "cell_type": "markdown",
      "source": [
        "**Langkah 3.2. - Pembuatan Layer Konvolusi 1**"
      ],
      "metadata": {
        "id": "qKM--HYwqN0D"
      }
    },
    {
      "cell_type": "code",
      "source": [
        "cnn.add(tf.keras.layers.Conv2D(filters=32, kernel_size=3, activation='relu', input_shape=[64, 64, 3]))"
      ],
      "metadata": {
        "id": "RwKDC9WFqPy1"
      },
      "execution_count": 9,
      "outputs": []
    },
    {
      "cell_type": "markdown",
      "source": [
        "**Langkah 3.3 - Pembuatan Layer Pooling 1**"
      ],
      "metadata": {
        "id": "z1OsrwDZqS0_"
      }
    },
    {
      "cell_type": "code",
      "source": [
        "cnn.add(tf.keras.layers.MaxPool2D(pool_size=2, strides=2))"
      ],
      "metadata": {
        "id": "kSG4L1BpqUtr"
      },
      "execution_count": 10,
      "outputs": []
    },
    {
      "cell_type": "markdown",
      "source": [
        "**Langkah 3.4 - Pembuatan Layer Konvolusi 2 dan Pooling 2**"
      ],
      "metadata": {
        "id": "B3EmJmhwqWhS"
      }
    },
    {
      "cell_type": "code",
      "source": [
        "cnn.add(tf.keras.layers.Conv2D(filters=32, kernel_size=3, activation='relu'))\n",
        "cnn.add(tf.keras.layers.MaxPool2D(pool_size=2, strides=2))"
      ],
      "metadata": {
        "id": "c2n_87MyqYus"
      },
      "execution_count": 11,
      "outputs": []
    },
    {
      "cell_type": "markdown",
      "source": [
        "**Langkah 3.5 - Flattening**"
      ],
      "metadata": {
        "id": "0oquDe6LqarD"
      }
    },
    {
      "cell_type": "code",
      "source": [
        "cnn.add(tf.keras.layers.Flatten())"
      ],
      "metadata": {
        "id": "xEcXWm3CqcxM"
      },
      "execution_count": 12,
      "outputs": []
    },
    {
      "cell_type": "markdown",
      "source": [
        "**Langkah 3.6 - Fully Connected Layer 1 (Input)**"
      ],
      "metadata": {
        "id": "pZP8kYnvqejs"
      }
    },
    {
      "cell_type": "code",
      "source": [
        "cnn.add(tf.keras.layers.Dense(units=128, activation='relu'))"
      ],
      "metadata": {
        "id": "l3xWWkhbqiMN"
      },
      "execution_count": 13,
      "outputs": []
    },
    {
      "cell_type": "markdown",
      "source": [
        "**Langkah 3.7 - Fully Connected Layer 2 (Output)**"
      ],
      "metadata": {
        "id": "zCDQS_2-qk1G"
      }
    },
    {
      "cell_type": "code",
      "source": [
        "cnn.add(tf.keras.layers.Dense(units=1, activation='sigmoid'))"
      ],
      "metadata": {
        "id": "WiYRxyb9qm40"
      },
      "execution_count": 14,
      "outputs": []
    },
    {
      "cell_type": "markdown",
      "source": [
        "**Langkah 3.8 - Compile Model CNN**"
      ],
      "metadata": {
        "id": "OrKU--mFqozj"
      }
    },
    {
      "cell_type": "code",
      "source": [
        "cnn.compile(optimizer = 'adam', loss = 'binary_crossentropy', metrics = ['accuracy'])"
      ],
      "metadata": {
        "id": "mO5y4BKrqr40"
      },
      "execution_count": 15,
      "outputs": []
    },
    {
      "cell_type": "markdown",
      "source": [
        "*Penggunaan **loss function binary crossentropy** dikarenakan kita hanya melakukan klasifikasi pada dua kelas, yaitu kucing dan anjing.*"
      ],
      "metadata": {
        "id": "Y8oidcs3qvsy"
      }
    },
    {
      "cell_type": "markdown",
      "source": [
        "**🍌 Langkah 4 - Fit CNN**"
      ],
      "metadata": {
        "id": "03CcOGokq2Jw"
      }
    },
    {
      "cell_type": "code",
      "source": [
        "cnn.fit(x = training_set, validation_data = test_set, epochs = 25)"
      ],
      "metadata": {
        "colab": {
          "base_uri": "https://localhost:8080/"
        },
        "id": "wGbMv6ukq7U2",
        "outputId": "3128e996-d675-47d2-e225-c3d25fed87fe"
      },
      "execution_count": 16,
      "outputs": [
        {
          "output_type": "stream",
          "name": "stdout",
          "text": [
            "Epoch 1/25\n",
            "250/250 [==============================] - 48s 143ms/step - loss: 0.6714 - accuracy: 0.5839 - val_loss: 0.6195 - val_accuracy: 0.6750\n",
            "Epoch 2/25\n",
            "250/250 [==============================] - 37s 150ms/step - loss: 0.6199 - accuracy: 0.6629 - val_loss: 0.5995 - val_accuracy: 0.6905\n",
            "Epoch 3/25\n",
            "250/250 [==============================] - 35s 142ms/step - loss: 0.5829 - accuracy: 0.6945 - val_loss: 0.5539 - val_accuracy: 0.7215\n",
            "Epoch 4/25\n",
            "250/250 [==============================] - 37s 148ms/step - loss: 0.5489 - accuracy: 0.7197 - val_loss: 0.5350 - val_accuracy: 0.7350\n",
            "Epoch 5/25\n",
            "250/250 [==============================] - 37s 147ms/step - loss: 0.5279 - accuracy: 0.7362 - val_loss: 0.5103 - val_accuracy: 0.7545\n",
            "Epoch 6/25\n",
            "250/250 [==============================] - 36s 143ms/step - loss: 0.4936 - accuracy: 0.7604 - val_loss: 0.5045 - val_accuracy: 0.7565\n",
            "Epoch 7/25\n",
            "250/250 [==============================] - 36s 142ms/step - loss: 0.4876 - accuracy: 0.7640 - val_loss: 0.4923 - val_accuracy: 0.7650\n",
            "Epoch 8/25\n",
            "250/250 [==============================] - 36s 142ms/step - loss: 0.4587 - accuracy: 0.7855 - val_loss: 0.4764 - val_accuracy: 0.7775\n",
            "Epoch 9/25\n",
            "250/250 [==============================] - 36s 143ms/step - loss: 0.4417 - accuracy: 0.7939 - val_loss: 0.5039 - val_accuracy: 0.7615\n",
            "Epoch 10/25\n",
            "250/250 [==============================] - 38s 150ms/step - loss: 0.4340 - accuracy: 0.7971 - val_loss: 0.4703 - val_accuracy: 0.7815\n",
            "Epoch 11/25\n",
            "250/250 [==============================] - 35s 139ms/step - loss: 0.4090 - accuracy: 0.8155 - val_loss: 0.4826 - val_accuracy: 0.7720\n",
            "Epoch 12/25\n",
            "250/250 [==============================] - 37s 147ms/step - loss: 0.4115 - accuracy: 0.8117 - val_loss: 0.4742 - val_accuracy: 0.7850\n",
            "Epoch 13/25\n",
            "250/250 [==============================] - 40s 161ms/step - loss: 0.3953 - accuracy: 0.8201 - val_loss: 0.4638 - val_accuracy: 0.7860\n",
            "Epoch 14/25\n",
            "250/250 [==============================] - 36s 145ms/step - loss: 0.3938 - accuracy: 0.8229 - val_loss: 0.4481 - val_accuracy: 0.7985\n",
            "Epoch 15/25\n",
            "250/250 [==============================] - 36s 144ms/step - loss: 0.3674 - accuracy: 0.8414 - val_loss: 0.5453 - val_accuracy: 0.7625\n",
            "Epoch 16/25\n",
            "250/250 [==============================] - 34s 137ms/step - loss: 0.3583 - accuracy: 0.8389 - val_loss: 0.5222 - val_accuracy: 0.7745\n",
            "Epoch 17/25\n",
            "250/250 [==============================] - 37s 147ms/step - loss: 0.3444 - accuracy: 0.8482 - val_loss: 0.4741 - val_accuracy: 0.7920\n",
            "Epoch 18/25\n",
            "250/250 [==============================] - 35s 140ms/step - loss: 0.3414 - accuracy: 0.8493 - val_loss: 0.4614 - val_accuracy: 0.7995\n",
            "Epoch 19/25\n",
            "250/250 [==============================] - 37s 148ms/step - loss: 0.3235 - accuracy: 0.8589 - val_loss: 0.4769 - val_accuracy: 0.8025\n",
            "Epoch 20/25\n",
            "250/250 [==============================] - 36s 146ms/step - loss: 0.3099 - accuracy: 0.8696 - val_loss: 0.5275 - val_accuracy: 0.7720\n",
            "Epoch 21/25\n",
            "250/250 [==============================] - 35s 139ms/step - loss: 0.2975 - accuracy: 0.8725 - val_loss: 0.5232 - val_accuracy: 0.7915\n",
            "Epoch 22/25\n",
            "250/250 [==============================] - 38s 152ms/step - loss: 0.2939 - accuracy: 0.8704 - val_loss: 0.4795 - val_accuracy: 0.8110\n",
            "Epoch 23/25\n",
            "250/250 [==============================] - 36s 146ms/step - loss: 0.2866 - accuracy: 0.8760 - val_loss: 0.5662 - val_accuracy: 0.7815\n",
            "Epoch 24/25\n",
            "250/250 [==============================] - 34s 137ms/step - loss: 0.2757 - accuracy: 0.8844 - val_loss: 0.4852 - val_accuracy: 0.8095\n",
            "Epoch 25/25\n",
            "250/250 [==============================] - 37s 146ms/step - loss: 0.2622 - accuracy: 0.8870 - val_loss: 0.5214 - val_accuracy: 0.7995\n"
          ]
        },
        {
          "output_type": "execute_result",
          "data": {
            "text/plain": [
              "<keras.src.callbacks.History at 0x79bc74d66ec0>"
            ]
          },
          "metadata": {},
          "execution_count": 16
        }
      ]
    },
    {
      "cell_type": "markdown",
      "source": [
        "**🍌 Langkah 5 - Prediksi dengan 1 Citra**"
      ],
      "metadata": {
        "id": "S_WYAm_Aq9mU"
      }
    },
    {
      "cell_type": "markdown",
      "source": [
        "*Pada langkah ini, kita akan mencoba melakukan prediksi pada 1 citra anjing dan kucing.*"
      ],
      "metadata": {
        "id": "VQH1Tr0lrCKz"
      }
    },
    {
      "cell_type": "code",
      "source": [
        "import numpy as np\n",
        "from keras.preprocessing import image\n",
        "test_image = image.load_img('/content/drive/MyDrive/Machine Learning/dataset/single_prediction/cat_or_dog_1.jpg', target_size = (64, 64))\n",
        "test_image = image.img_to_array(test_image)\n",
        "test_image = np.expand_dims(test_image, axis = 0)\n",
        "result = cnn.predict(test_image)\n",
        "training_set.class_indices\n",
        "if result[0][0] == 1:\n",
        "  prediction = 'dog'\n",
        "else:\n",
        "  prediction = 'cat'"
      ],
      "metadata": {
        "id": "PpFvx5BhrEFs",
        "colab": {
          "base_uri": "https://localhost:8080/"
        },
        "outputId": "d32700be-6bcf-4c62-bf95-e50f4f019376"
      },
      "execution_count": 17,
      "outputs": [
        {
          "output_type": "stream",
          "name": "stdout",
          "text": [
            "1/1 [==============================] - 0s 152ms/step\n"
          ]
        }
      ]
    }
  ]
}